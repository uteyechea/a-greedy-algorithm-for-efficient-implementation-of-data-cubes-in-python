{
 "cells": [
  {
   "cell_type": "markdown",
   "metadata": {},
   "source": [
    "###### \n",
    "A lattice framework is used to express dependencies among views.\n",
    "The first problem to code is this lattice framwork.\n",
    "\n",
    "In general, greedy algorithms have five components:\n",
    "   A candidate set, from which a solution is created\n",
    "   A selection function, which chooses the best candidate to be added to the solution\n",
    "   A feasibility function, that is used to determine if a candidate can be used to contribute to a solution\n",
    "   An objective function, which assigns a value to a solution, or a partial solution, and\n",
    "   A solution function, which will indicate when we have discovered a complete solution"
   ]
  },
  {
   "cell_type": "code",
   "execution_count": 1,
   "metadata": {},
   "outputs": [],
   "source": [
    "from itertools import combinations \n",
    "import string"
   ]
  },
  {
   "cell_type": "code",
   "execution_count": 2,
   "metadata": {},
   "outputs": [],
   "source": [
    "#Define the lattice framwork. \n",
    "#Nodes will be created using the following rule. \n",
    "#nodes_k = nCk \n",
    "#where n=total number of views that make the Top View and k=number of dimensions at each level\n",
    "def random_lattice(n):\n",
    "    def __init__(self):\n",
    "        self.dimension=dimension\n",
    "    lattice={} \n",
    "    lattice[n]='Top View'\n",
    "    lattice[0]='All'\n",
    "    for k in reversed(range(1,n)):\n",
    "        lattice[k]=list(combinations(string.ascii_lowercase[:n],k)) \n",
    "    \n",
    "    for k in range(1,n):\n",
    "        for l in range(len(lattice[k])):\n",
    "            lattice[k][l]=''.join(lattice[k][l])\n",
    "    \n",
    "    return lattice"
   ]
  },
  {
   "cell_type": "markdown",
   "metadata": {},
   "source": [
    "#### Choice 1"
   ]
  },
  {
   "cell_type": "markdown",
   "metadata": {},
   "source": [
    "##### Define Data Cube Lattice"
   ]
  },
  {
   "cell_type": "code",
   "execution_count": 3,
   "metadata": {},
   "outputs": [],
   "source": [
    "#The order of the dictionary entries matter because...dependency,etc\n",
    "lattice={\n",
    "        'abcd':100,\n",
    "        'abc':50,'acd':75,\n",
    "        'ab':20,'ac':30,'ad':40,\n",
    "        'a':1,'c':10\n",
    "        }"
   ]
  },
  {
   "cell_type": "markdown",
   "metadata": {},
   "source": [
    "##### Count the number of dependent views for all views"
   ]
  },
  {
   "cell_type": "code",
   "execution_count": 4,
   "metadata": {},
   "outputs": [],
   "source": [
    "#Needs debugging, proof of work should give a right count for the Top View\n",
    "def viewsDependency(lattice):\n",
    "    viewsDependencyCount={}\n",
    "    for view in lattice:\n",
    "        count=1\n",
    "        for dimension in view:\n",
    "            for subNode in lattice:\n",
    "                if len(subNode)<len(view):\n",
    "                        if dimension in subNode and count <= len(view)+1:\n",
    "                            count+=1\n",
    "        viewsDependencyCount[view]=count                \n",
    "            #if dimension in node: # if a dimension is in every node below the current node\n",
    "    return viewsDependencyCount            \n"
   ]
  },
  {
   "cell_type": "code",
   "execution_count": 5,
   "metadata": {},
   "outputs": [],
   "source": [
    "dep=viewsDependency(lattice)"
   ]
  },
  {
   "cell_type": "markdown",
   "metadata": {},
   "source": [
    "##### Calculate the Cost of Storage difference between a view and all its dependent views"
   ]
  },
  {
   "cell_type": "code",
   "execution_count": 6,
   "metadata": {},
   "outputs": [],
   "source": [
    "def costDifference(lattice,view):\n",
    "    node=list(lattice.keys())\n",
    "    dif={}\n",
    "    for nodes in lattice:\n",
    "        dif[nodes]=lattice[node[0]]-lattice[nodes]\n",
    "\n",
    "    return dif"
   ]
  },
  {
   "cell_type": "code",
   "execution_count": 7,
   "metadata": {},
   "outputs": [],
   "source": [
    "cost=costDifference(lattice,'abcd')"
   ]
  },
  {
   "cell_type": "markdown",
   "metadata": {},
   "source": [
    "##### Calculate each view Benefit compared to all other views in set S"
   ]
  },
  {
   "cell_type": "code",
   "execution_count": 8,
   "metadata": {},
   "outputs": [],
   "source": [
    "def benefit(lattice,viewsDependency,costDifference):\n",
    "    benefit={}\n",
    "    for view in lattice:\n",
    "        try:\n",
    "            benefit[view]=costDifference[view]*viewsDependency[view]\n",
    "        except:\n",
    "            print('Couldn\\'t find view', view)\n",
    "    return benefit        "
   ]
  },
  {
   "cell_type": "code",
   "execution_count": 9,
   "metadata": {},
   "outputs": [],
   "source": [
    "b=benefit(lattice,dep,cost)"
   ]
  },
  {
   "cell_type": "code",
   "execution_count": 10,
   "metadata": {},
   "outputs": [
    {
     "name": "stdout",
     "output_type": "stream",
     "text": [
      "{'abcd': 0, 'abc': 250, 'acd': 125, 'ab': 160, 'ac': 210, 'ad': 120, 'a': 99, 'c': 90}\n"
     ]
    }
   ],
   "source": [
    "print(b)"
   ]
  },
  {
   "cell_type": "markdown",
   "metadata": {},
   "source": [
    "##### Find view with the greatest benefit"
   ]
  },
  {
   "cell_type": "code",
   "execution_count": 11,
   "metadata": {},
   "outputs": [],
   "source": [
    "def selectView(benefit):\n",
    "    for view in benefit:\n",
    "        if benefit[view] == max(list(benefit.values())):\n",
    "            selectedView=view\n",
    "            break\n",
    "    return selectedView        "
   ]
  },
  {
   "cell_type": "code",
   "execution_count": 27,
   "metadata": {},
   "outputs": [],
   "source": [
    "previousSelectedView=selectView(b)"
   ]
  },
  {
   "cell_type": "markdown",
   "metadata": {},
   "source": [
    "##### Choice 2"
   ]
  },
  {
   "cell_type": "code",
   "execution_count": 69,
   "metadata": {},
   "outputs": [],
   "source": [
    "def costDifference2(lattice,selectedView,previousSelectedView):\n",
    "    views=list(lattice.keys())\n",
    "    dif={}\n",
    "    for view in lattice:\n",
    "        if len(views[selectedView]) > len(view) and \\\n",
    "        viewsDependencyCheck(views[selectedView],previousSelectedView) == True:\n",
    "            dif[view]=lattice[views[selectedView]]-lattice[view]\n",
    "        else:\n",
    "            try:\n",
    "                dif[view]=lattice[views[selectedView-1]]-lattice[view]\n",
    "            except:\n",
    "                print('A negative view number was selected during computation') \n",
    "    return dif"
   ]
  },
  {
   "cell_type": "code",
   "execution_count": 70,
   "metadata": {},
   "outputs": [
    {
     "data": {
      "text/plain": [
       "{'abcd': 0,\n",
       " 'abc': 50,\n",
       " 'acd': 25,\n",
       " 'ab': 30,\n",
       " 'ac': 20,\n",
       " 'ad': 10,\n",
       " 'a': 49,\n",
       " 'c': 40}"
      ]
     },
     "execution_count": 70,
     "metadata": {},
     "output_type": "execute_result"
    }
   ],
   "source": [
    "costDifference2(lattice,1,previousSelectedView)"
   ]
  },
  {
   "cell_type": "code",
   "execution_count": 60,
   "metadata": {},
   "outputs": [],
   "source": [
    "def viewsDependencyCheck(view1,view2):\n",
    "    count=0\n",
    "    for dimension in view1:\n",
    "        for subDimension in view2:\n",
    "                if dimension == subDimension:\n",
    "                    count+=1\n",
    "    \n",
    "    if count == len(view2):\n",
    "        return True\n",
    "    return False"
   ]
  },
  {
   "cell_type": "code",
   "execution_count": 66,
   "metadata": {},
   "outputs": [
    {
     "data": {
      "text/plain": [
       "False"
      ]
     },
     "execution_count": 66,
     "metadata": {},
     "output_type": "execute_result"
    }
   ],
   "source": [
    "viewsDependencyCheck('abc','bd')"
   ]
  },
  {
   "cell_type": "code",
   "execution_count": null,
   "metadata": {},
   "outputs": [],
   "source": []
  }
 ],
 "metadata": {
  "kernelspec": {
   "display_name": "Python 3",
   "language": "python",
   "name": "python3"
  },
  "language_info": {
   "codemirror_mode": {
    "name": "ipython",
    "version": 3
   },
   "file_extension": ".py",
   "mimetype": "text/x-python",
   "name": "python",
   "nbconvert_exporter": "python",
   "pygments_lexer": "ipython3",
   "version": "3.7.4"
  }
 },
 "nbformat": 4,
 "nbformat_minor": 2
}
