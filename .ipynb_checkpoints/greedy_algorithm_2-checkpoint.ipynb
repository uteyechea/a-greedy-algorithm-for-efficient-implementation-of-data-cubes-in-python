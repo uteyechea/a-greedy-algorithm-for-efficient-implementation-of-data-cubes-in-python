{
 "cells": [
  {
   "cell_type": "code",
   "execution_count": 1,
   "metadata": {},
   "outputs": [],
   "source": [
    "#The order of the dictionary entries matter because...dependency,etc\n",
    "lattice={\n",
    "        'abcd':100,\n",
    "        'abc':50,'acd':75,\n",
    "        'ab':20,'ac':30,'ad':40,\n",
    "        'a':1,'c':10\n",
    "        }"
   ]
  },
  {
   "cell_type": "code",
   "execution_count": 2,
   "metadata": {},
   "outputs": [
    {
     "data": {
      "text/plain": [
       "['abcd', 'abc', 'acd', 'ab', 'ac', 'ad', 'a', 'c']"
      ]
     },
     "execution_count": 2,
     "metadata": {},
     "output_type": "execute_result"
    }
   ],
   "source": [
    "views=list(lattice.keys())\n",
    "views"
   ]
  },
  {
   "cell_type": "code",
   "execution_count": 3,
   "metadata": {},
   "outputs": [],
   "source": [
    "def dependencyCheck(view,views,lattice=None):\n",
    "    #compare dependency of view1 with view2\n",
    "    #if views is a single element compare individual dependency if it is a set give a count \n",
    "    #and output a list of dependent views. \n",
    "    \n",
    "    dependentViewsCount=0\n",
    "    dependentViews=[]\n",
    "    \n",
    "    for anotherView in views:\n",
    "        n=0\n",
    "        for dimension in view:\n",
    "            #print('dimension',dimension)\n",
    "            for subDimension in anotherView:\n",
    "                #print('sub dimension',subDimension)\n",
    "                if dimension == subDimension: \n",
    "                    n+=1\n",
    "                    #print('found, count ', n )\n",
    "        if n == len(anotherView):\n",
    "            dependentViewsCount+=1\n",
    "            dependentViews.append(anotherView)\n",
    "            #print(n,len(anotherView))\n",
    "            #print('dependent view found',dependentViewsCount)\n",
    "    return dependentViewsCount,dependentViews\n",
    "    "
   ]
  },
  {
   "cell_type": "code",
   "execution_count": 4,
   "metadata": {},
   "outputs": [],
   "source": [
    "def getBenefit(views,lattice,selectedViews):\n",
    "    benefit=[]\n",
    "    \n",
    "    for v in lattice:\n",
    "        diff=[]    \n",
    "        #dependentViewsCount,dependentViews=dependencyCheck(selectedViews[-1],v)\n",
    "        dependencyCount,dependentViews=dependencyCheck(selectedViews[-1],[v])\n",
    "        if dependencyCount <=0 :\n",
    "            for view in selectedViews:\n",
    "                diff.append(lattice[view]-lattice[v])\n",
    "            dif=max(diff)\n",
    "            dependentViewsCount1,dependentViews1=dependencyCheck(v,views)\n",
    "            dependentViewsCount2,dependentViews2=dependencyCheck(selectedViews[-1],views)\n",
    "            dependentViewsCount=set(dependentViews1).difference(set(dependentViews2))\n",
    "            benefit.append([dif*len(dependentViewsCount),v])\n",
    "            print(selectedViews[-1],v,dif,len(dependentViewsCount),dif*len(dependentViewsCount))\n",
    "        else:\n",
    "            dif=lattice[selectedViews[-1]]-lattice[v]\n",
    "            dependentViewsCount,dependentViews=dependencyCheck(v,views)\n",
    "            benefit.append([dif*dependentViewsCount,v])\n",
    "            print(selectedViews[-1],v,dif,dependentViewsCount,dif*dependentViewsCount)\n",
    "            \n",
    "    selectedViews.append(max(benefit)[1])\n",
    "    #getBenefit(views,lattice,selectedViews)\n",
    "    return selectedViews,benefit"
   ]
  },
  {
   "cell_type": "code",
   "execution_count": 5,
   "metadata": {},
   "outputs": [
    {
     "name": "stdout",
     "output_type": "stream",
     "text": [
      "abcd abcd 0 8 0\n",
      "abcd abc 50 5 250\n",
      "abcd acd 25 5 125\n",
      "abcd ab 80 2 160\n",
      "abcd ac 70 3 210\n",
      "abcd ad 60 2 120\n",
      "abcd a 99 1 99\n",
      "abcd c 90 1 90\n"
     ]
    }
   ],
   "source": [
    "selectedViews=['abcd']\n",
    "selectedViews,benefit=getBenefit(views,lattice,selectedViews)"
   ]
  },
  {
   "cell_type": "code",
   "execution_count": 6,
   "metadata": {},
   "outputs": [
    {
     "data": {
      "text/plain": [
       "['abcd', 'abc']"
      ]
     },
     "execution_count": 6,
     "metadata": {},
     "output_type": "execute_result"
    }
   ],
   "source": [
    "selectedViews"
   ]
  },
  {
   "cell_type": "code",
   "execution_count": 10,
   "metadata": {},
   "outputs": [
    {
     "name": "stdout",
     "output_type": "stream",
     "text": [
      "abc abcd 0 3 0\n",
      "abc abc 0 5 0\n",
      "abc acd 25 2 50\n",
      "abc ab 30 2 60\n",
      "abc ac 20 3 60\n",
      "abc ad 60 1 60\n",
      "abc a 49 1 49\n",
      "abc c 40 1 40\n"
     ]
    }
   ],
   "source": [
    "selectedViews,benefit=getBenefit(views,lattice,selectedViews)"
   ]
  },
  {
   "cell_type": "code",
   "execution_count": null,
   "metadata": {},
   "outputs": [],
   "source": [
    "selectedViews"
   ]
  },
  {
   "cell_type": "code",
   "execution_count": 11,
   "metadata": {},
   "outputs": [],
   "source": [
    "def getBenefit2(views,lattice,selectedViews):\n",
    "    benefit=[]\n",
    "    \n",
    "    for v in lattice:\n",
    "        diff=[]    \n",
    "        #dependentViewsCount,dependentViews=dependencyCheck(selectedViews[-1],v)\n",
    "        dependencyCount,dependentViews=dependencyCheck(selectedViews[-1],[v])\n",
    "        if dependencyCount <=0 :\n",
    "            for view in selectedViews:\n",
    "                diff.append(lattice[view]-lattice[v])\n",
    "            dif=max(diff)\n",
    "            \n",
    "            dependentViewsCount1,dependentViews1=dependencyCheck(v,views)\n",
    "            dependentViewsCount2,dependentViews2=dependencyCheck(selectedViews[-1],views)\n",
    "            \n",
    "            dependentViewsCount=set(dependentViews1).difference(set(dependentViews2))\n",
    "            \n",
    "            benefit.append([dif*len(dependentViewsCount),v])\n",
    "            \n",
    "            print(selectedViews[-1],v,dif,len(dependentViewsCount),dif*len(dependentViewsCount))\n",
    "        else:\n",
    "            dif=lattice[selectedViews[-1]]-lattice[v]\n",
    "            dependentViewsCount,dependentViews=dependencyCheck(v,views)\n",
    "            benefit.append([dif*dependentViewsCount,v])\n",
    "            print(selectedViews[-1],v,dif,dependentViewsCount,dif*dependentViewsCount)\n",
    "            \n",
    "    selectedViews.append(max(benefit)[1])\n",
    "    #getBenefit(views,lattice,selectedViews)\n",
    "    return selectedViews,benefit"
   ]
  },
  {
   "cell_type": "code",
   "execution_count": 12,
   "metadata": {},
   "outputs": [
    {
     "name": "stdout",
     "output_type": "stream",
     "text": [
      "abcd abcd 0 8 0\n",
      "abcd abc 50 5 250\n",
      "abcd acd 25 5 125\n",
      "abcd ab 80 2 160\n",
      "abcd ac 70 3 210\n",
      "abcd ad 60 2 120\n",
      "abcd a 99 1 99\n",
      "abcd c 90 1 90\n"
     ]
    }
   ],
   "source": [
    "selectedViews=['abcd','abc']\n",
    "selectedViews,benefit=getBenefit2(views,lattice,selectedViews)"
   ]
  },
  {
   "cell_type": "code",
   "execution_count": 13,
   "metadata": {},
   "outputs": [
    {
     "name": "stdout",
     "output_type": "stream",
     "text": [
      "abc abcd 0 3 0\n",
      "abc abc 0 5 0\n",
      "abc acd 25 2 50\n",
      "abc ab 30 2 60\n",
      "abc ac 20 3 60\n",
      "abc ad 60 1 60\n",
      "abc a 49 1 49\n",
      "abc c 40 1 40\n"
     ]
    }
   ],
   "source": [
    "selectedViews,benefit=getBenefit2(views,lattice,selectedViews)"
   ]
  },
  {
   "cell_type": "code",
   "execution_count": 132,
   "metadata": {},
   "outputs": [],
   "source": [
    "def getBenefit3(views,lattice,selectedViews):\n",
    "    benefit=[]\n",
    "    for v in lattice:\n",
    "        diff=[]    \n",
    "        #dependentViewsCount,dependentViews=dependencyCheck(selectedViews[-1],v)\n",
    "        dependencyCount,dependentViews=dependencyCheck(selectedViews[-1],[v])\n",
    "        if dependencyCount <=0 :\n",
    "            for view in selectedViews:\n",
    "                diff.append(lattice[view]-lattice[v])\n",
    "            dif=max(diff)\n",
    "            dependentViewsCount1,dependentViews1=dependencyCheck(v,views)\n",
    "            dependentViewsCount2,dependentViews2=dependencyCheck(selectedViews[-1],views)\n",
    "            dependentViewsCount=set(dependentViews1).difference(set(dependentViews2))\n",
    "            benefit.append([dif*len(dependentViewsCount),v])\n",
    "            addbenefit=additionalBenefit(views,lattice)\n",
    "            print(selectedViews[-1],v,dif,len(dependentViewsCount),\\\n",
    "                  dif*len(dependentViewsCount)+addbenefit[0])\n",
    "            \n",
    "        else:\n",
    "            dif=lattice[selectedViews[-1]]-lattice[v]\n",
    "            dependentViewsCount,dependentViews=dependencyCheck(v,views)\n",
    "            benefit.append([dif*dependentViewsCount,v])\n",
    "            addbenefit=additionalBenefit(views,lattice)\n",
    "            print(selectedViews[-1],v,dif,dependentViewsCount,\\\n",
    "                  dif*dependentViewsCount+addbenefit[0])\n",
    "            \n",
    "    selectedViews.append(max(benefit)[1])\n",
    "    #getBenefit(views,lattice,selectedViews)\n",
    "    return selectedViews,benefit"
   ]
  },
  {
   "cell_type": "code",
   "execution_count": 133,
   "metadata": {},
   "outputs": [
    {
     "ename": "IndexError",
     "evalue": "list index out of range",
     "output_type": "error",
     "traceback": [
      "\u001b[1;31m---------------------------------------------------------------------------\u001b[0m",
      "\u001b[1;31mIndexError\u001b[0m                                Traceback (most recent call last)",
      "\u001b[1;32m<ipython-input-133-5a14b5d09f67>\u001b[0m in \u001b[0;36m<module>\u001b[1;34m\u001b[0m\n\u001b[0;32m      1\u001b[0m \u001b[0mselectedViews\u001b[0m\u001b[1;33m=\u001b[0m\u001b[1;33m[\u001b[0m\u001b[1;34m'abcd'\u001b[0m\u001b[1;33m]\u001b[0m\u001b[1;33m\u001b[0m\u001b[1;33m\u001b[0m\u001b[0m\n\u001b[1;32m----> 2\u001b[1;33m \u001b[0mselectedViews\u001b[0m\u001b[1;33m,\u001b[0m\u001b[0mbenefit\u001b[0m\u001b[1;33m=\u001b[0m\u001b[0mgetBenefit3\u001b[0m\u001b[1;33m(\u001b[0m\u001b[0mviews\u001b[0m\u001b[1;33m,\u001b[0m\u001b[0mlattice\u001b[0m\u001b[1;33m,\u001b[0m\u001b[0mselectedViews\u001b[0m\u001b[1;33m)\u001b[0m\u001b[1;33m\u001b[0m\u001b[1;33m\u001b[0m\u001b[0m\n\u001b[0m",
      "\u001b[1;32m<ipython-input-132-e9679f01cccc>\u001b[0m in \u001b[0;36mgetBenefit3\u001b[1;34m(views, lattice, selectedViews)\u001b[0m\n\u001b[0;32m     24\u001b[0m             \u001b[0maddbenefit\u001b[0m\u001b[1;33m=\u001b[0m\u001b[0madditionalBenefit\u001b[0m\u001b[1;33m(\u001b[0m\u001b[0mviews\u001b[0m\u001b[1;33m,\u001b[0m\u001b[0mlattice\u001b[0m\u001b[1;33m)\u001b[0m\u001b[1;33m\u001b[0m\u001b[1;33m\u001b[0m\u001b[0m\n\u001b[0;32m     25\u001b[0m             print(selectedViews[-1],v,dif,dependentViewsCount,\\\n\u001b[1;32m---> 26\u001b[1;33m                   dif*dependentViewsCount+addbenefit[0])\n\u001b[0m\u001b[0;32m     27\u001b[0m \u001b[1;33m\u001b[0m\u001b[0m\n\u001b[0;32m     28\u001b[0m     \u001b[0mselectedViews\u001b[0m\u001b[1;33m.\u001b[0m\u001b[0mappend\u001b[0m\u001b[1;33m(\u001b[0m\u001b[0mmax\u001b[0m\u001b[1;33m(\u001b[0m\u001b[0mbenefit\u001b[0m\u001b[1;33m)\u001b[0m\u001b[1;33m[\u001b[0m\u001b[1;36m1\u001b[0m\u001b[1;33m]\u001b[0m\u001b[1;33m)\u001b[0m\u001b[1;33m\u001b[0m\u001b[1;33m\u001b[0m\u001b[0m\n",
      "\u001b[1;31mIndexError\u001b[0m: list index out of range"
     ]
    }
   ],
   "source": [
    "selectedViews=['abcd']\n",
    "selectedViews,benefit=getBenefit3(views,lattice,selectedViews)"
   ]
  },
  {
   "cell_type": "code",
   "execution_count": 108,
   "metadata": {},
   "outputs": [
    {
     "name": "stdout",
     "output_type": "stream",
     "text": [
      "(10, 'ad') 10\n"
     ]
    },
    {
     "ename": "TypeError",
     "evalue": "unsupported operand type(s) for +: 'int' and 'tuple'",
     "output_type": "error",
     "traceback": [
      "\u001b[1;31m---------------------------------------------------------------------------\u001b[0m",
      "\u001b[1;31mTypeError\u001b[0m                                 Traceback (most recent call last)",
      "\u001b[1;32m<ipython-input-108-e2e37ab6c220>\u001b[0m in \u001b[0;36m<module>\u001b[1;34m\u001b[0m\n\u001b[1;32m----> 1\u001b[1;33m \u001b[0mselectedViews\u001b[0m\u001b[1;33m,\u001b[0m\u001b[0mbenefit\u001b[0m\u001b[1;33m=\u001b[0m\u001b[0mgetBenefit3\u001b[0m\u001b[1;33m(\u001b[0m\u001b[0mviews\u001b[0m\u001b[1;33m,\u001b[0m\u001b[0mlattice\u001b[0m\u001b[1;33m,\u001b[0m\u001b[0mselectedViews\u001b[0m\u001b[1;33m)\u001b[0m\u001b[1;33m\u001b[0m\u001b[1;33m\u001b[0m\u001b[0m\n\u001b[0m\u001b[0;32m      2\u001b[0m \u001b[0mselectedViews\u001b[0m\u001b[1;33m\u001b[0m\u001b[1;33m\u001b[0m\u001b[0m\n",
      "\u001b[1;32m<ipython-input-104-f0858ff8c1c2>\u001b[0m in \u001b[0;36mgetBenefit3\u001b[1;34m(views, lattice, selectedViews)\u001b[0m\n\u001b[0;32m     15\u001b[0m             \u001b[0mbenefit\u001b[0m\u001b[1;33m.\u001b[0m\u001b[0mappend\u001b[0m\u001b[1;33m(\u001b[0m\u001b[1;33m[\u001b[0m\u001b[0mdif\u001b[0m\u001b[1;33m*\u001b[0m\u001b[0mlen\u001b[0m\u001b[1;33m(\u001b[0m\u001b[0mdependentViewsCount\u001b[0m\u001b[1;33m)\u001b[0m\u001b[1;33m,\u001b[0m\u001b[0mv\u001b[0m\u001b[1;33m]\u001b[0m\u001b[1;33m)\u001b[0m\u001b[1;33m\u001b[0m\u001b[1;33m\u001b[0m\u001b[0m\n\u001b[0;32m     16\u001b[0m             \u001b[0maddbenefit\u001b[0m\u001b[1;33m=\u001b[0m\u001b[0madditionalBenefit\u001b[0m\u001b[1;33m(\u001b[0m\u001b[0mviews\u001b[0m\u001b[1;33m,\u001b[0m\u001b[0mlattice\u001b[0m\u001b[1;33m)\u001b[0m\u001b[1;33m\u001b[0m\u001b[1;33m\u001b[0m\u001b[0m\n\u001b[1;32m---> 17\u001b[1;33m             \u001b[0mprint\u001b[0m\u001b[1;33m(\u001b[0m\u001b[0mselectedViews\u001b[0m\u001b[1;33m[\u001b[0m\u001b[1;33m-\u001b[0m\u001b[1;36m1\u001b[0m\u001b[1;33m]\u001b[0m\u001b[1;33m,\u001b[0m\u001b[0mv\u001b[0m\u001b[1;33m,\u001b[0m\u001b[0mdif\u001b[0m\u001b[1;33m,\u001b[0m\u001b[0mlen\u001b[0m\u001b[1;33m(\u001b[0m\u001b[0mdependentViewsCount\u001b[0m\u001b[1;33m)\u001b[0m\u001b[1;33m,\u001b[0m\u001b[0mdif\u001b[0m\u001b[1;33m*\u001b[0m\u001b[0mlen\u001b[0m\u001b[1;33m(\u001b[0m\u001b[0mdependentViewsCount\u001b[0m\u001b[1;33m)\u001b[0m\u001b[1;33m+\u001b[0m\u001b[0maddbenefit\u001b[0m\u001b[1;33m)\u001b[0m\u001b[1;33m\u001b[0m\u001b[1;33m\u001b[0m\u001b[0m\n\u001b[0m\u001b[0;32m     18\u001b[0m \u001b[1;33m\u001b[0m\u001b[0m\n\u001b[0;32m     19\u001b[0m         \u001b[1;32melse\u001b[0m\u001b[1;33m:\u001b[0m\u001b[1;33m\u001b[0m\u001b[1;33m\u001b[0m\u001b[0m\n",
      "\u001b[1;31mTypeError\u001b[0m: unsupported operand type(s) for +: 'int' and 'tuple'"
     ]
    }
   ],
   "source": [
    "selectedViews,benefit=getBenefit3(views,lattice,selectedViews)\n",
    "selectedViews"
   ]
  },
  {
   "cell_type": "code",
   "execution_count": 124,
   "metadata": {},
   "outputs": [],
   "source": [
    "def additionalBenefit(views,lattice):\n",
    "    minBenefit=[]\n",
    "    for v in views:\n",
    "        if v not in selectedViews:\n",
    "            #print(v)\n",
    "            dependentViewsCount,dependentViews=dependencyCheck(selectedViews[-1],[v])\n",
    "            addBenefit=abs(lattice[v]-lattice[selectedViews[-1]])\n",
    "            benefit.append((addBenefit,v))\n",
    "            if dependentViewsCount <= 0:\n",
    "                if lattice[v] < lattice[selectedViews[-1]]:\n",
    "                    print(min(benefit),addBenefit)\n",
    "                    if min(benefit)[0] == addBenefit:\n",
    "                        minBenefit=min(benefit)\n",
    "    return minBenefit\n",
    "                #print(selectedViews[-1],v,dependentViews,False)\n",
    "            #else:\n",
    "                #print(selectedViews[-1],v,dependentViews,True)\n",
    "            \n",
    "    #for v in views:\n",
    "     #   if v not in selectedViews:\n",
    "            #if lattice[v] < lattice[selectedViews[-1]]:\n",
    "            #    print(True,'Benefit= ',lattice[v]-lattice[selectedViews[-1]])\n",
    "            #else:\n",
    "            #    print(False,'Benefit= ',lattice[v]-lattice[selectedViews[-1]])"
   ]
  },
  {
   "cell_type": "code",
   "execution_count": 125,
   "metadata": {},
   "outputs": [],
   "source": [
    "addbenefit=additionalBenefit(views,lattice)"
   ]
  },
  {
   "cell_type": "code",
   "execution_count": 115,
   "metadata": {},
   "outputs": [
    {
     "data": {
      "text/plain": [
       "10"
      ]
     },
     "execution_count": 115,
     "metadata": {},
     "output_type": "execute_result"
    }
   ],
   "source": [
    "addbenefit[0]"
   ]
  },
  {
   "cell_type": "code",
   "execution_count": 77,
   "metadata": {},
   "outputs": [
    {
     "data": {
      "text/plain": [
       "['abcd', 'abc', 'ad']"
      ]
     },
     "execution_count": 77,
     "metadata": {},
     "output_type": "execute_result"
    }
   ],
   "source": [
    "selectedViews"
   ]
  },
  {
   "cell_type": "code",
   "execution_count": 126,
   "metadata": {},
   "outputs": [],
   "source": [
    "selectedViews=['abcd']"
   ]
  },
  {
   "cell_type": "code",
   "execution_count": 128,
   "metadata": {},
   "outputs": [],
   "source": [
    "b=additionalBenefit(views,lattice)"
   ]
  },
  {
   "cell_type": "code",
   "execution_count": 129,
   "metadata": {},
   "outputs": [
    {
     "ename": "IndexError",
     "evalue": "list index out of range",
     "output_type": "error",
     "traceback": [
      "\u001b[1;31m---------------------------------------------------------------------------\u001b[0m",
      "\u001b[1;31mIndexError\u001b[0m                                Traceback (most recent call last)",
      "\u001b[1;32m<ipython-input-129-54af0eb47770>\u001b[0m in \u001b[0;36m<module>\u001b[1;34m\u001b[0m\n\u001b[1;32m----> 1\u001b[1;33m \u001b[0mb\u001b[0m\u001b[1;33m[\u001b[0m\u001b[1;36m0\u001b[0m\u001b[1;33m]\u001b[0m\u001b[1;33m\u001b[0m\u001b[1;33m\u001b[0m\u001b[0m\n\u001b[0m",
      "\u001b[1;31mIndexError\u001b[0m: list index out of range"
     ]
    }
   ],
   "source": [
    "b[0]"
   ]
  },
  {
   "cell_type": "code",
   "execution_count": null,
   "metadata": {},
   "outputs": [],
   "source": []
  }
 ],
 "metadata": {
  "kernelspec": {
   "display_name": "Python 3",
   "language": "python",
   "name": "python3"
  },
  "language_info": {
   "codemirror_mode": {
    "name": "ipython",
    "version": 3
   },
   "file_extension": ".py",
   "mimetype": "text/x-python",
   "name": "python",
   "nbconvert_exporter": "python",
   "pygments_lexer": "ipython3",
   "version": "3.7.4"
  }
 },
 "nbformat": 4,
 "nbformat_minor": 2
}
