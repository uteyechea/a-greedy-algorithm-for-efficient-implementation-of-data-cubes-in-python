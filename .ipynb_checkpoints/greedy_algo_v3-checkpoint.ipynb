{
 "cells": [
  {
   "cell_type": "code",
   "execution_count": 222,
   "metadata": {},
   "outputs": [],
   "source": [
    "#The order of the dictionary entries matter because...dependency,etc\n",
    "lattice={\n",
    "        'abcd':100,\n",
    "        'abc':50,'acd':75,\n",
    "        'ab':20,'ac':30,'cd':40,\n",
    "        'a':1,'c':10\n",
    "        }"
   ]
  },
  {
   "cell_type": "code",
   "execution_count": 223,
   "metadata": {},
   "outputs": [
    {
     "data": {
      "text/plain": [
       "['abcd', 'abc', 'acd', 'ab', 'ac', 'cd', 'a', 'c']"
      ]
     },
     "execution_count": 223,
     "metadata": {},
     "output_type": "execute_result"
    }
   ],
   "source": [
    "views=list(lattice.keys())\n",
    "views"
   ]
  },
  {
   "cell_type": "code",
   "execution_count": 224,
   "metadata": {},
   "outputs": [],
   "source": [
    "selectedViews=['abcd']"
   ]
  },
  {
   "cell_type": "code",
   "execution_count": 4,
   "metadata": {},
   "outputs": [],
   "source": [
    "def dependencyCheck(view,views,lattice=None):\n",
    "    #compare dependency of view1 with view2\n",
    "    #if views is a single element compare individual dependency if it is a set give a count \n",
    "    #and output a list of dependent views. \n",
    "    \n",
    "    dependentViewsCount=0\n",
    "    dependentViews=[]\n",
    "    \n",
    "    for anotherView in views:\n",
    "        n=0\n",
    "        for dimension in view:\n",
    "            #print('dimension',dimension)\n",
    "            for subDimension in anotherView:\n",
    "                #print('sub dimension',subDimension)\n",
    "                if dimension == subDimension: \n",
    "                    n+=1\n",
    "                    #print('found, count ', n )\n",
    "        if n == len(anotherView):\n",
    "            dependentViewsCount+=1\n",
    "            dependentViews.append(anotherView)\n",
    "            #print(n,len(anotherView))\n",
    "            #print('dependent view found',dependentViewsCount)\n",
    "    return dependentViewsCount,dependentViews"
   ]
  },
  {
   "cell_type": "code",
   "execution_count": 5,
   "metadata": {},
   "outputs": [],
   "source": [
    "def additionalBenefit(views,lattice):\n",
    "    benefit=[]\n",
    "    minBenefit=0\n",
    "    for v in views:\n",
    "        if v not in selectedViews:\n",
    "            #print(v)\n",
    "            dependentViewsCount,dependentViews=dependencyCheck(selectedViews[-1],[v])\n",
    "            if dependentViewsCount <= 0:\n",
    "                if lattice[v] < lattice[selectedViews[-1]]:\n",
    "                    \n",
    "                    addBenefit=abs(lattice[v]-lattice[selectedViews[-1]])\n",
    "                    benefit.append((addBenefit,v))\n",
    "                    \n",
    "    if benefit:\n",
    "        minBenefit=min(benefit)\n",
    "        print(minBenefit,v)\n",
    "    return minBenefit"
   ]
  },
  {
   "cell_type": "code",
   "execution_count": 24,
   "metadata": {},
   "outputs": [],
   "source": [
    "def getBenefit(views,lattice,selectedViews):\n",
    "    benefit=[] #Output that will store a list of [benefit,view], i.e. [[50, 'acd'], [80, 'ab'], [29, 'a'], [20, 'c']])\n",
    "    for v in lattice: #v stands for any view defined in the lattice framework.\n",
    "        if v not in selectedViews:#Once a view as been selectd to materialize, \n",
    "        #there is no need to compute again its benefit.\n",
    "            storageCostDifference=[]   \n",
    "            \n",
    "            #for selectedView in selectedViews:\n",
    "            #This need to be loopabe over selectedViews\n",
    "            #there is a loop over selectedViews below depenencyCount\n",
    "            \n",
    "            #No change in results whether i choose any of the ones below\n",
    "            dependencyCount,dependentViews=dependencyCheck(selectedViews[-1],[v])\n",
    "            #dependencyCount,dependentViews=dependencyCheck([v],selectedViews[-1])\n",
    "            \n",
    "            #if dependencyCount <=0 or dependencyCount >0: #why?\n",
    "            if dependencyCount <=0: #why?\n",
    "                \n",
    "                for view in selectedViews:\n",
    "                    storageCostDifference.append(lattice[view]-lattice[v])\n",
    "                dif=min(storageCostDifference)\n",
    "                \n",
    "                dependentViewsCount1,dependentViews1=dependencyCheck(v,views)\n",
    "                dependentViewsCount2,dependentViews2=dependencyCheck(selectedViews[-1],views)\n",
    "                dependentViewsCount=set(dependentViews1).difference(set(dependentViews2))\n",
    "                \n",
    "                benefit.append([dif*len(dependentViewsCount),v])\n",
    "                addbenefit=additionalBenefit(views,lattice)\n",
    "                #if addbenefit[1] == v:\n",
    "                if addbenefit and addbenefit[1]== v:    \n",
    "                    print(selectedViews[-1],v,dif,len(dependentViewsCount),\\\n",
    "                      dif*len(dependentViewsCount)+addbenefit[0])\n",
    "                else:\n",
    "                    print(selectedViews[-1],v,dif,len(dependentViewsCount),\\\n",
    "                      dif*len(dependentViewsCount))\n",
    "            else:\n",
    "                dif=lattice[selectedViews[-1]]-lattice[v]\n",
    "                dependentViewsCount,dependentViews=dependencyCheck(v,views)\n",
    "                benefit.append([dif*dependentViewsCount,v])\n",
    "                addbenefit=additionalBenefit(views,lattice)\n",
    "                if addbenefit and addbenefit[1]== v:\n",
    "                    print(selectedViews[-1],v,dif,dependentViewsCount,\\\n",
    "                      dif*dependentViewsCount+addbenefit[0])\n",
    "                else:\n",
    "                    print(selectedViews[-1],v,dif,dependentViewsCount,\\\n",
    "                      dif*dependentViewsCount)\n",
    "    selectedViews.append(max(benefit)[1])\n",
    "    #getBenefit(views,lattice,selectedViews)\n",
    "    return selectedViews,benefit"
   ]
  },
  {
   "cell_type": "code",
   "execution_count": 25,
   "metadata": {},
   "outputs": [
    {
     "name": "stdout",
     "output_type": "stream",
     "text": [
      "abcd abc 50 5 250\n",
      "abcd acd 25 5 125\n",
      "abcd ab 80 2 160\n",
      "abcd ac 70 3 210\n",
      "abcd ad 60 2 120\n",
      "abcd a 99 1 99\n",
      "abcd c 90 1 90\n"
     ]
    }
   ],
   "source": [
    "selectedViews=['abcd']\n",
    "selectedViews,benefit=getBenefit(views,lattice,selectedViews)"
   ]
  },
  {
   "cell_type": "code",
   "execution_count": 26,
   "metadata": {},
   "outputs": [
    {
     "name": "stdout",
     "output_type": "stream",
     "text": [
      "(10, 'ad') c\n",
      "abc acd -25 2 -50\n",
      "(10, 'ad') c\n",
      "abc ab 30 2 60\n",
      "(10, 'ad') c\n",
      "abc ac 20 3 60\n",
      "(10, 'ad') c\n",
      "abc ad 10 1 20\n",
      "(10, 'ad') c\n",
      "abc a 49 1 49\n",
      "(10, 'ad') c\n",
      "abc c 40 1 40\n"
     ]
    },
    {
     "data": {
      "text/plain": [
       "['abcd', 'abc', 'ac']"
      ]
     },
     "execution_count": 26,
     "metadata": {},
     "output_type": "execute_result"
    }
   ],
   "source": [
    "selectedViews,benefit=getBenefit(views,lattice,selectedViews)\n",
    "selectedViews"
   ]
  },
  {
   "cell_type": "code",
   "execution_count": 9,
   "metadata": {},
   "outputs": [
    {
     "name": "stdout",
     "output_type": "stream",
     "text": [
      "(10, 'ac') c\n",
      "ad acd 25 3 75\n",
      "(10, 'ac') c\n",
      "ad ab 80 1 80\n",
      "(10, 'ac') c\n",
      "ad ac 70 2 150\n",
      "(10, 'ac') c\n",
      "ad a 39 1 39\n",
      "(10, 'ac') c\n",
      "ad c 90 1 90\n"
     ]
    },
    {
     "data": {
      "text/plain": [
       "['abcd', 'abc', 'ad', 'ac']"
      ]
     },
     "execution_count": 9,
     "metadata": {},
     "output_type": "execute_result"
    }
   ],
   "source": [
    "selectedViews,benefit=getBenefit3(views,lattice,selectedViews)\n",
    "selectedViews"
   ]
  },
  {
   "cell_type": "code",
   "execution_count": 10,
   "metadata": {},
   "outputs": [
    {
     "name": "stdout",
     "output_type": "stream",
     "text": [
      "(10, 'ab') c\n",
      "ac acd 25 2 50\n",
      "(10, 'ab') c\n",
      "ac ab 80 1 90\n",
      "(10, 'ab') c\n",
      "ac a 29 1 29\n",
      "(10, 'ab') c\n",
      "ac c 20 1 20\n"
     ]
    },
    {
     "data": {
      "text/plain": [
       "['abcd', 'abc', 'ad', 'ac', 'ab']"
      ]
     },
     "execution_count": 10,
     "metadata": {},
     "output_type": "execute_result"
    }
   ],
   "source": [
    "selectedViews,benefit=getBenefit3(views,lattice,selectedViews)\n",
    "selectedViews"
   ]
  },
  {
   "cell_type": "code",
   "execution_count": 55,
   "metadata": {},
   "outputs": [],
   "source": [
    "def getBenefit2(views,lattice,selectedViews):\n",
    "    benefit=[] #Output that will store a list of [benefit,view], i.e. [[50, 'acd'], [80, 'ab'], [29, 'a'], [20, 'c']])\n",
    "    for v in lattice: #v stands for any view defined in the lattice framework.\n",
    "        if v not in selectedViews:#Once a view as been selectd to materialize, \n",
    "        #there is no need to compute again its benefit.\n",
    "            for selectedView in selectedViews:\n",
    "                storageCostDifference=[]\n",
    "                dependencyCount,dependentViews=dependencyCheck(selectedView,[v])\n",
    "                if dependencyCount > 0: #This means v is a branch of selectedView\n",
    "                    #tell me how many dependent views v has\n",
    "                    dependencyCount1,dependentViews1=dependencyCheck(v,views)\n",
    "                    storageCostDifference.append(lattice[selectedView]-lattice[v])\n",
    "                    \n",
    "                    print(selectedView,v,lattice[selectedView]-lattice[v],dependencyCount1)\n",
    "            \n"
   ]
  },
  {
   "cell_type": "code",
   "execution_count": 225,
   "metadata": {},
   "outputs": [
    {
     "name": "stdout",
     "output_type": "stream",
     "text": [
      "abcd acd 25 5\n",
      "abcd ab 80 2\n",
      "abc ab 30 2\n",
      "abcd ac 70 3\n",
      "abc ac 20 3\n",
      "abcd cd 60 2\n",
      "abcd a 99 1\n",
      "abc a 49 1\n"
     ]
    },
    {
     "ename": "KeyError",
     "evalue": "'ad'",
     "output_type": "error",
     "traceback": [
      "\u001b[1;31m---------------------------------------------------------------------------\u001b[0m",
      "\u001b[1;31mKeyError\u001b[0m                                  Traceback (most recent call last)",
      "\u001b[1;32m<ipython-input-225-5f6fefe0fbcd>\u001b[0m in \u001b[0;36m<module>\u001b[1;34m\u001b[0m\n\u001b[0;32m      1\u001b[0m \u001b[0mselectedViews\u001b[0m\u001b[1;33m=\u001b[0m\u001b[1;33m[\u001b[0m\u001b[1;34m'abcd'\u001b[0m\u001b[1;33m,\u001b[0m\u001b[1;34m'abc'\u001b[0m\u001b[1;33m,\u001b[0m\u001b[1;34m'ad'\u001b[0m\u001b[1;33m]\u001b[0m\u001b[1;33m\u001b[0m\u001b[1;33m\u001b[0m\u001b[0m\n\u001b[1;32m----> 2\u001b[1;33m \u001b[0mgetBenefit2\u001b[0m\u001b[1;33m(\u001b[0m\u001b[0mviews\u001b[0m\u001b[1;33m,\u001b[0m\u001b[0mlattice\u001b[0m\u001b[1;33m,\u001b[0m\u001b[0mselectedViews\u001b[0m\u001b[1;33m)\u001b[0m\u001b[1;33m\u001b[0m\u001b[1;33m\u001b[0m\u001b[0m\n\u001b[0m",
      "\u001b[1;32m<ipython-input-55-940f5835a982>\u001b[0m in \u001b[0;36mgetBenefit2\u001b[1;34m(views, lattice, selectedViews)\u001b[0m\n\u001b[0;32m     10\u001b[0m                     \u001b[1;31m#tell me how many dependent views v has\u001b[0m\u001b[1;33m\u001b[0m\u001b[1;33m\u001b[0m\u001b[1;33m\u001b[0m\u001b[0m\n\u001b[0;32m     11\u001b[0m                     \u001b[0mdependencyCount1\u001b[0m\u001b[1;33m,\u001b[0m\u001b[0mdependentViews1\u001b[0m\u001b[1;33m=\u001b[0m\u001b[0mdependencyCheck\u001b[0m\u001b[1;33m(\u001b[0m\u001b[0mv\u001b[0m\u001b[1;33m,\u001b[0m\u001b[0mviews\u001b[0m\u001b[1;33m)\u001b[0m\u001b[1;33m\u001b[0m\u001b[1;33m\u001b[0m\u001b[0m\n\u001b[1;32m---> 12\u001b[1;33m                     \u001b[0mstorageCostDifference\u001b[0m\u001b[1;33m.\u001b[0m\u001b[0mappend\u001b[0m\u001b[1;33m(\u001b[0m\u001b[0mlattice\u001b[0m\u001b[1;33m[\u001b[0m\u001b[0mselectedView\u001b[0m\u001b[1;33m]\u001b[0m\u001b[1;33m-\u001b[0m\u001b[0mlattice\u001b[0m\u001b[1;33m[\u001b[0m\u001b[0mv\u001b[0m\u001b[1;33m]\u001b[0m\u001b[1;33m)\u001b[0m\u001b[1;33m\u001b[0m\u001b[1;33m\u001b[0m\u001b[0m\n\u001b[0m\u001b[0;32m     13\u001b[0m                     \u001b[0mprint\u001b[0m\u001b[1;33m(\u001b[0m\u001b[0mselectedView\u001b[0m\u001b[1;33m,\u001b[0m\u001b[0mv\u001b[0m\u001b[1;33m,\u001b[0m\u001b[0mlattice\u001b[0m\u001b[1;33m[\u001b[0m\u001b[0mselectedView\u001b[0m\u001b[1;33m]\u001b[0m\u001b[1;33m-\u001b[0m\u001b[0mlattice\u001b[0m\u001b[1;33m[\u001b[0m\u001b[0mv\u001b[0m\u001b[1;33m]\u001b[0m\u001b[1;33m,\u001b[0m\u001b[0mdependencyCount1\u001b[0m\u001b[1;33m)\u001b[0m\u001b[1;33m\u001b[0m\u001b[1;33m\u001b[0m\u001b[0m\n\u001b[0;32m     14\u001b[0m \u001b[1;33m\u001b[0m\u001b[0m\n",
      "\u001b[1;31mKeyError\u001b[0m: 'ad'"
     ]
    }
   ],
   "source": [
    "selectedViews=['abcd','abc','cd']\n",
    "getBenefit2(views,lattice,selectedViews)"
   ]
  },
  {
   "cell_type": "code",
   "execution_count": 169,
   "metadata": {},
   "outputs": [],
   "source": [
    "def isConnected(view1,view2):\n",
    "    isParent=dependencyCheck2(view1,[view2],lattice=None)\n",
    "    if len(isParent) > 0:\n",
    "        return True\n",
    "    else:\n",
    "        return False"
   ]
  },
  {
   "cell_type": "code",
   "execution_count": 173,
   "metadata": {},
   "outputs": [
    {
     "data": {
      "text/plain": [
       "True"
      ]
     },
     "execution_count": 173,
     "metadata": {},
     "output_type": "execute_result"
    }
   ],
   "source": [
    "isConnected('abc','abc')"
   ]
  },
  {
   "cell_type": "code",
   "execution_count": 197,
   "metadata": {},
   "outputs": [],
   "source": [
    "def getParentView(view,lattice,selectedViews):\n",
    "    parents=[]\n",
    "    for v in views:\n",
    "        if v != view:\n",
    "            if isConnected(v,view):\n",
    "                parents.append(v)\n",
    "    #parents will alwayas have at least the top view\n",
    "    newParent=views[0] # Top View\n",
    "    for parent in parents:\n",
    "            if parent in selectedViews:\n",
    "                if lattice[parent]<=lattice[newParent]:\n",
    "                    newParent=parent\n",
    "    return newParent  "
   ]
  },
  {
   "cell_type": "code",
   "execution_count": 230,
   "metadata": {},
   "outputs": [
    {
     "data": {
      "text/plain": [
       "'cd'"
      ]
     },
     "execution_count": 230,
     "metadata": {},
     "output_type": "execute_result"
    }
   ],
   "source": [
    "getParentView('c',lattice,selectedViews)"
   ]
  },
  {
   "cell_type": "code",
   "execution_count": 229,
   "metadata": {},
   "outputs": [],
   "source": [
    "selectedViews=['abcd','abc','cd']"
   ]
  },
  {
   "cell_type": "code",
   "execution_count": 238,
   "metadata": {},
   "outputs": [],
   "source": [
    "def getBenefit10(views,lattice,selectedViews):\n",
    "    for view in lattice:\n",
    "        storageCostDifference=0\n",
    "        benefit=[]\n",
    "        if view not in selectedViews:\n",
    "            parent=getParentView(view,lattice,selectedViews)       \n",
    "            storageCostDifference=abs(lattice[view]-lattice[parent])\n",
    "            \n",
    "            #Count the number of dependent Views\n",
    "            view_dependentViews=dependencyCheck2(view,views)\n",
    "            \n",
    "            materialized_view_dependentViews=[]\n",
    "            for selectedView in selectedViews[1:]:\n",
    "                materialized_view_dependentViews.extend(dependencyCheck2(selectedView,views))\n",
    "            \n",
    "            dependentViews=\\\n",
    "            set(view_dependentViews).difference(set(materialized_view_dependentViews))\n",
    "            \n",
    "            \n",
    "        benefit.append((view,storageCostDifference,len(dependentViews)))\n",
    "        print(benefit)"
   ]
  },
  {
   "cell_type": "code",
   "execution_count": 239,
   "metadata": {},
   "outputs": [
    {
     "name": "stdout",
     "output_type": "stream",
     "text": [
      "[('abcd', 0)]\n",
      "[('abc', 0)]\n",
      "[('acd', 25)]\n",
      "[('ab', 30)]\n",
      "[('ac', 20)]\n",
      "[('cd', 0)]\n",
      "[('a', 49)]\n",
      "[('c', 30)]\n"
     ]
    }
   ],
   "source": [
    "selectedViews=['abcd','abc','cd']\n",
    "getBenefit10(views,lattice,selectedViews)"
   ]
  },
  {
   "cell_type": "code",
   "execution_count": 103,
   "metadata": {},
   "outputs": [],
   "source": [
    "def dependencyCheck2(view,views,lattice=None):\n",
    "    #compare dependency of view1 with view2\n",
    "    #if views is a single element compare individual dependency if it is a set give a count \n",
    "    #and output a list of dependent views. \n",
    "    \n",
    "    dependentViewsCount=0\n",
    "    dependentViews=[]\n",
    "    for anotherView in views:\n",
    "        n=0\n",
    "        for dimension in view:\n",
    "            #print('dimension',dimension)\n",
    "            for subDimension in anotherView:\n",
    "                #print('sub dimension',subDimension)\n",
    "                if dimension == subDimension: \n",
    "                    n+=1\n",
    "                    #print('found, count ', n )\n",
    "        if n == len(anotherView):\n",
    "            dependentViews.append(anotherView)\n",
    "            #print(n,len(anotherView))\n",
    "            #print('dependent view found',dependentViewsCount)\n",
    "    return dependentViews"
   ]
  },
  {
   "cell_type": "code",
   "execution_count": null,
   "metadata": {},
   "outputs": [],
   "source": []
  }
 ],
 "metadata": {
  "kernelspec": {
   "display_name": "Python 3",
   "language": "python",
   "name": "python3"
  },
  "language_info": {
   "codemirror_mode": {
    "name": "ipython",
    "version": 3
   },
   "file_extension": ".py",
   "mimetype": "text/x-python",
   "name": "python",
   "nbconvert_exporter": "python",
   "pygments_lexer": "ipython3",
   "version": "3.7.4"
  }
 },
 "nbformat": 4,
 "nbformat_minor": 2
}
