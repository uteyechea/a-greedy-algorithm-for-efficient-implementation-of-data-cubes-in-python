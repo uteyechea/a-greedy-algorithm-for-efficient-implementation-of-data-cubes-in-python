{
 "cells": [
  {
   "cell_type": "code",
   "execution_count": 29,
   "metadata": {},
   "outputs": [],
   "source": [
    "import operator"
   ]
  },
  {
   "cell_type": "markdown",
   "metadata": {},
   "source": [
    "### Harinarayan, Rajaraman, Ullman Storage Costs "
   ]
  },
  {
   "cell_type": "code",
   "execution_count": null,
   "metadata": {},
   "outputs": [],
   "source": [
    "#The order of the dictionary entries matter because...dependency,etc\n",
    "lattice={\n",
    "        'abcd':100,\n",
    "        'abc':50,'acd':75,\n",
    "        'ab':20,'ac':30,'cd':40,\n",
    "        'a':1,'c':10\n",
    "        }"
   ]
  },
  {
   "cell_type": "code",
   "execution_count": null,
   "metadata": {},
   "outputs": [],
   "source": [
    "views=list(lattice.keys())\n",
    "views"
   ]
  },
  {
   "cell_type": "code",
   "execution_count": null,
   "metadata": {},
   "outputs": [],
   "source": [
    "selectedViews=['abcd'] #Always selected by default, also known as Top View"
   ]
  },
  {
   "cell_type": "code",
   "execution_count": 17,
   "metadata": {},
   "outputs": [],
   "source": [
    "def dependencyCheck(view,views):\n",
    "    #compare dependency of view1 with view2\n",
    "    #if views is a single element compare individual dependency if it is a set give a count \n",
    "    #and output a list of dependent views. \n",
    "    \n",
    "    dependentViewsCount=0\n",
    "    dependentViews=[]\n",
    "    for anotherView in views:\n",
    "        n=0\n",
    "        for dimension in view:\n",
    "            #print('dimension',dimension)\n",
    "            for subDimension in anotherView:\n",
    "                #print('sub dimension',subDimension)\n",
    "                if dimension == subDimension: \n",
    "                    n+=1\n",
    "                    #print('found, count ', n )\n",
    "        if n == len(anotherView):\n",
    "            dependentViews.append(anotherView)\n",
    "            #print(n,len(anotherView))\n",
    "            #print('dependent view found',dependentViewsCount)\n",
    "    return dependentViews"
   ]
  },
  {
   "cell_type": "code",
   "execution_count": 18,
   "metadata": {},
   "outputs": [],
   "source": [
    "def additionalBenefit(views,lattice):\n",
    "    benefit=[]\n",
    "    minBenefit=0\n",
    "    for v in views:\n",
    "        if v not in selectedViews:\n",
    "            #print(v)\n",
    "            dependentViewsCount=dependencyCheck(selectedViews[-1],[v])\n",
    "            if len(dependentViewsCount) <= 0:\n",
    "                if lattice[v] < lattice[selectedViews[-1]]:\n",
    "                    \n",
    "                    addBenefit=abs(lattice[v]-lattice[selectedViews[-1]])\n",
    "                    benefit.append((addBenefit,v))\n",
    "                    \n",
    "    if benefit:\n",
    "        minBenefit=min(benefit)\n",
    "        #print(minBenefit,v)\n",
    "    return minBenefit"
   ]
  },
  {
   "cell_type": "code",
   "execution_count": 23,
   "metadata": {},
   "outputs": [],
   "source": [
    "def isConnected(view1,view2):\n",
    "    isParent=dependencyCheck(view1,[view2])\n",
    "    if len(isParent) > 0:\n",
    "        return True\n",
    "    else:\n",
    "        return False"
   ]
  },
  {
   "cell_type": "code",
   "execution_count": 24,
   "metadata": {},
   "outputs": [
    {
     "data": {
      "text/plain": [
       "True"
      ]
     },
     "execution_count": 24,
     "metadata": {},
     "output_type": "execute_result"
    }
   ],
   "source": [
    "isConnected('abc','a')"
   ]
  },
  {
   "cell_type": "code",
   "execution_count": 53,
   "metadata": {},
   "outputs": [],
   "source": [
    "def getParentView(view,lattice,selectedViews):\n",
    "    parents=[]\n",
    "    for v in lattice:\n",
    "        if v != view:\n",
    "            if isConnected(v,view):\n",
    "                parents.append(v)\n",
    "    #print(parents)\n",
    "    #parents will alwayas have at least the top view\n",
    "    newParent=selectedViews[0] # Top View\n",
    "    for parent in parents:\n",
    "            if parent in selectedViews:\n",
    "                if lattice[parent]<lattice[newParent]: #select as parent the one with the smallest storage cost\n",
    "                    newParent=parent\n",
    "                    #print('newParent ',newParent)\n",
    "    return newParent  "
   ]
  },
  {
   "cell_type": "code",
   "execution_count": null,
   "metadata": {},
   "outputs": [],
   "source": [
    "#Test if c which has two selected views as parents correctly chooses the cheapest one\n",
    "#selectedViews=['abcd','abc','cd']\n",
    "#getParentView('c',lattice,selectedViews)"
   ]
  },
  {
   "cell_type": "code",
   "execution_count": 26,
   "metadata": {},
   "outputs": [
    {
     "ename": "TypeError",
     "evalue": "'set' object is not subscriptable",
     "output_type": "error",
     "traceback": [
      "\u001b[1;31m---------------------------------------------------------------------------\u001b[0m",
      "\u001b[1;31mTypeError\u001b[0m                                 Traceback (most recent call last)",
      "\u001b[1;32m<ipython-input-26-53a4c1f874cc>\u001b[0m in \u001b[0;36m<module>\u001b[1;34m\u001b[0m\n\u001b[1;32m----> 1\u001b[1;33m \u001b[0mselectedViews\u001b[0m\u001b[1;33m[\u001b[0m\u001b[1;36m0\u001b[0m\u001b[1;33m]\u001b[0m\u001b[1;33m\u001b[0m\u001b[1;33m\u001b[0m\u001b[0m\n\u001b[0m",
      "\u001b[1;31mTypeError\u001b[0m: 'set' object is not subscriptable"
     ]
    }
   ],
   "source": [
    "selectedViews[0]"
   ]
  },
  {
   "cell_type": "code",
   "execution_count": 27,
   "metadata": {},
   "outputs": [],
   "source": [
    "def getBenefit(views,lattice,selectedViews):\n",
    "    B={}\n",
    "    for view in lattice:\n",
    "        storageCostDifference=0\n",
    "        benefit=[]\n",
    "        dependentViews=[]\n",
    "        if view not in selectedViews:\n",
    "            parent=getParentView(view,lattice,selectedViews)       \n",
    "            storageCostDifference=abs(lattice[view]-lattice[parent])\n",
    "            \n",
    "            #Count the number of dependent Views\n",
    "            view_dependentViews=dependencyCheck(view,views)\n",
    "            \n",
    "            \n",
    "            materialized_view_dependentViews=[]\n",
    "            #for selectedView in selectedViews:    \n",
    "            #    parent=getParentView(view,lattice,selectedViews)\n",
    "            #    if parent != selectedView and parent==selectedViews[0]:#Original\n",
    "            #        materialized_view_dependentViews.extend(dependencyCheck(selectedView,views))\n",
    "            \n",
    "            \n",
    "            for selectedView in selectedViews:\n",
    "                if selectedView != parent and selectedView!=selectedViews[0]:\n",
    "                    materialized_view_dependentViews.extend(dependencyCheck(selectedView,views))\n",
    "                \n",
    "                \n",
    "                \n",
    "                \n",
    "            dependentViews=\\\n",
    "            set(view_dependentViews).difference(set(materialized_view_dependentViews))\n",
    "            if dependentViews==set():\n",
    "                dependentViews=set(view)\n",
    "            #estimate the difference only for those selected nodes that are not parents\n",
    "        \n",
    "            addBenefit=additionalBenefit(views,lattice)\n",
    "            if addBenefit and addBenefit[1]== view:  \n",
    "                benefit.append((view,storageCostDifference,len(dependentViews),\\\n",
    "                dependentViews,storageCostDifference*len(dependentViews)+addBenefit[0]))\n",
    "                B[view]=storageCostDifference*len(dependentViews)+addBenefit[0]\n",
    "            else:\n",
    "                benefit.append((view,storageCostDifference,len(dependentViews),\\\n",
    "                dependentViews,storageCostDifference*len(dependentViews)))\n",
    "                B[view]=storageCostDifference*len(dependentViews)\n",
    "                \n",
    "        print(benefit)\n",
    "        \n",
    "        #Update Selected Views\n",
    "        #B[view]=storageCostDifference*len(dependentViews)+addBenefit[0]\n",
    "        \n",
    "    update=max(B.items(), key=operator.itemgetter(1))[0]\n",
    "    selectedViews.append(update)\n",
    "        \n",
    "    return selectedViews"
   ]
  },
  {
   "cell_type": "code",
   "execution_count": 28,
   "metadata": {},
   "outputs": [
    {
     "name": "stdout",
     "output_type": "stream",
     "text": [
      "[]\n",
      "['abcd']\n",
      "[('abc', 6666, 7, {'ac', 'ab', 'abc', 'b', 'c', 'a', 'bc'}, 46662)]\n",
      "['abcd']\n",
      "[('abd', 35343, 7, {'ab', 'bd', 'b', 'a', 'abd', 'ad', 'd'}, 247401)]\n",
      "['abcd']\n",
      "[('acd', 53196, 7, {'ac', 'c', 'a', 'ad', 'd', 'cd', 'acd'}, 372372)]\n",
      "['abcd']\n",
      "[('bcd', 20881, 7, {'bcd', 'c', 'bd', 'b', 'bc', 'd', 'cd'}, 146167)]\n",
      "['abcd', 'abc', 'abd']\n",
      "[('ab', 39826, 3, {'ab', 'a', 'b'}, 119478)]\n",
      "['abcd', 'abc', 'acd']\n",
      "[('ac', 53615, 3, {'ac', 'c', 'a'}, 160845)]\n",
      "['abcd', 'abd', 'acd']\n",
      "[('ad', 53741, 3, {'ad', 'd', 'a'}, 161223)]\n",
      "['abcd', 'abc', 'bcd']\n",
      "[('bc', 27741, 3, {'c', 'bc', 'b'}, 83223)]\n",
      "['abcd', 'abd', 'bcd']\n",
      "[('bd', 45613, 3, {'d', 'bd', 'b'}, 136839)]\n",
      "['abcd', 'acd', 'bcd']\n",
      "[('cd', 53751, 3, {'c', 'd', 'cd'}, 161253)]\n",
      "['abcd', 'abc', 'abd', 'acd', 'ab', 'ac', 'ad']\n",
      "[('a', 53780, 1, {'a'}, 53780)]\n",
      "['abcd', 'abc', 'abd', 'bcd', 'ab', 'bc', 'bd']\n",
      "[('b', 48470, 1, {'b'}, 48470)]\n",
      "['abcd', 'abc', 'acd', 'bcd', 'ac', 'bc', 'cd']\n",
      "[('c', 53787, 1, {'c'}, 53787)]\n",
      "['abcd', 'abd', 'acd', 'bcd', 'ad', 'bd', 'cd']\n",
      "[('d', 53795, 1, {'d'}, 53795)]\n"
     ]
    },
    {
     "ename": "NameError",
     "evalue": "name 'operator' is not defined",
     "output_type": "error",
     "traceback": [
      "\u001b[1;31m---------------------------------------------------------------------------\u001b[0m",
      "\u001b[1;31mNameError\u001b[0m                                 Traceback (most recent call last)",
      "\u001b[1;32m<ipython-input-28-955c5abde791>\u001b[0m in \u001b[0;36m<module>\u001b[1;34m\u001b[0m\n\u001b[0;32m      1\u001b[0m \u001b[0mselectedViews\u001b[0m\u001b[1;33m=\u001b[0m\u001b[1;33m[\u001b[0m\u001b[1;34m'abcd'\u001b[0m\u001b[1;33m]\u001b[0m\u001b[1;33m\u001b[0m\u001b[1;33m\u001b[0m\u001b[0m\n\u001b[1;32m----> 2\u001b[1;33m \u001b[0mgetBenefit\u001b[0m\u001b[1;33m(\u001b[0m\u001b[0mviews\u001b[0m\u001b[1;33m,\u001b[0m\u001b[0mlattice\u001b[0m\u001b[1;33m,\u001b[0m\u001b[0mselectedViews\u001b[0m\u001b[1;33m)\u001b[0m\u001b[1;33m\u001b[0m\u001b[1;33m\u001b[0m\u001b[0m\n\u001b[0m\u001b[0;32m      3\u001b[0m \u001b[0mselectedViews\u001b[0m\u001b[1;33m\u001b[0m\u001b[1;33m\u001b[0m\u001b[0m\n",
      "\u001b[1;32m<ipython-input-27-03164fc3fbce>\u001b[0m in \u001b[0;36mgetBenefit\u001b[1;34m(views, lattice, selectedViews)\u001b[0m\n\u001b[0;32m     48\u001b[0m         \u001b[1;31m#B[view]=storageCostDifference*len(dependentViews)+addBenefit[0]\u001b[0m\u001b[1;33m\u001b[0m\u001b[1;33m\u001b[0m\u001b[1;33m\u001b[0m\u001b[0m\n\u001b[0;32m     49\u001b[0m \u001b[1;33m\u001b[0m\u001b[0m\n\u001b[1;32m---> 50\u001b[1;33m     \u001b[0mupdate\u001b[0m\u001b[1;33m=\u001b[0m\u001b[0mmax\u001b[0m\u001b[1;33m(\u001b[0m\u001b[0mB\u001b[0m\u001b[1;33m.\u001b[0m\u001b[0mitems\u001b[0m\u001b[1;33m(\u001b[0m\u001b[1;33m)\u001b[0m\u001b[1;33m,\u001b[0m \u001b[0mkey\u001b[0m\u001b[1;33m=\u001b[0m\u001b[0moperator\u001b[0m\u001b[1;33m.\u001b[0m\u001b[0mitemgetter\u001b[0m\u001b[1;33m(\u001b[0m\u001b[1;36m1\u001b[0m\u001b[1;33m)\u001b[0m\u001b[1;33m)\u001b[0m\u001b[1;33m[\u001b[0m\u001b[1;36m0\u001b[0m\u001b[1;33m]\u001b[0m\u001b[1;33m\u001b[0m\u001b[1;33m\u001b[0m\u001b[0m\n\u001b[0m\u001b[0;32m     51\u001b[0m     \u001b[0mselectedViews\u001b[0m\u001b[1;33m.\u001b[0m\u001b[0mappend\u001b[0m\u001b[1;33m(\u001b[0m\u001b[0mupdate\u001b[0m\u001b[1;33m)\u001b[0m\u001b[1;33m\u001b[0m\u001b[1;33m\u001b[0m\u001b[0m\n\u001b[0;32m     52\u001b[0m \u001b[1;33m\u001b[0m\u001b[0m\n",
      "\u001b[1;31mNameError\u001b[0m: name 'operator' is not defined"
     ]
    }
   ],
   "source": [
    "selectedViews=['abcd']\n",
    "getBenefit(views,lattice,selectedViews)\n",
    "selectedViews"
   ]
  },
  {
   "cell_type": "code",
   "execution_count": null,
   "metadata": {},
   "outputs": [],
   "source": [
    "getBenefit(views,lattice,selectedViews)\n",
    "selectedViews"
   ]
  },
  {
   "cell_type": "code",
   "execution_count": null,
   "metadata": {},
   "outputs": [],
   "source": [
    "getBenefit(views,lattice,selectedViews)\n",
    "selectedViews"
   ]
  },
  {
   "cell_type": "code",
   "execution_count": null,
   "metadata": {},
   "outputs": [],
   "source": [
    "getBenefit(views,lattice,selectedViews)\n",
    "selectedViews"
   ]
  },
  {
   "cell_type": "code",
   "execution_count": null,
   "metadata": {},
   "outputs": [],
   "source": [
    "getBenefit(views,lattice,selectedViews)\n",
    "selectedViews"
   ]
  },
  {
   "cell_type": "code",
   "execution_count": null,
   "metadata": {},
   "outputs": [],
   "source": [
    "getBenefit(views,lattice,selectedViews)\n",
    "selectedViews"
   ]
  },
  {
   "cell_type": "code",
   "execution_count": null,
   "metadata": {},
   "outputs": [],
   "source": [
    "getBenefit(views,lattice,selectedViews)\n",
    "selectedViews"
   ]
  },
  {
   "cell_type": "code",
   "execution_count": 1,
   "metadata": {},
   "outputs": [
    {
     "ename": "NameError",
     "evalue": "name 'lattice' is not defined",
     "output_type": "error",
     "traceback": [
      "\u001b[1;31m---------------------------------------------------------------------------\u001b[0m",
      "\u001b[1;31mNameError\u001b[0m                                 Traceback (most recent call last)",
      "\u001b[1;32m<ipython-input-1-6d8bcaeb16d6>\u001b[0m in \u001b[0;36m<module>\u001b[1;34m\u001b[0m\n\u001b[1;32m----> 1\u001b[1;33m \u001b[0mlattice\u001b[0m\u001b[1;33m\u001b[0m\u001b[1;33m\u001b[0m\u001b[0m\n\u001b[0m",
      "\u001b[1;31mNameError\u001b[0m: name 'lattice' is not defined"
     ]
    }
   ],
   "source": [
    "lattice "
   ]
  },
  {
   "cell_type": "markdown",
   "metadata": {},
   "source": [
    "### Trinidad Serna Improved Hypercube views materialization"
   ]
  },
  {
   "cell_type": "code",
   "execution_count": 80,
   "metadata": {},
   "outputs": [],
   "source": [
    "#Lattice views with only one dimension. Notation (storageCost,computationCost). \n",
    "#These values are specified by the user.\n",
    "latticeDim1={\n",
    "    'a':(19,5000), 'b':(5329,18000), 'c':(12,12),'d':(4,5) \n",
    "}\n",
    "\n",
    "#For each view count and input the number of atributes in total for each dimension\n",
    "atributes_perDimension={\n",
    "    'a':24, 'b':2, 'c':4,'d':2 \n",
    "}\n",
    "\n",
    "#Full lattice with all the views, must use the letters of each dimension, i.e. a,b,c,etc to\n",
    "#indicate the dependencies, for example acd is the parent view of ac,ad,cd,a,c and d.\n",
    "lattice={\n",
    "    'abcd': 53799,\n",
    "    'abc':47133,'abd':18456,'acd':603,'bcd':32918,\n",
    "    'ab':13973, 'ac':184, 'ad':58, 'bc':26058,'bd':8186,'cd':48,\n",
    "    'a':19, 'b':5329, 'c':12,'d':4 \n",
    "    \n",
    "}\n",
    "\n",
    "views=list(lattice.keys())\n",
    "selectedViews=['abcd']\n",
    "\n",
    "newLattice=lattice\n",
    "for view in latticeDim1:\n",
    "    newLattice[view]=latticeDim1[view]"
   ]
  },
  {
   "cell_type": "code",
   "execution_count": 81,
   "metadata": {},
   "outputs": [],
   "source": [
    "#Due to lack of time this algorithm will only work for up\n",
    "#to views made of 4 dimensions maximum\n",
    "def computationCost(lattice):\n",
    "    latticeDim2={}\n",
    "    latticeDim3={}\n",
    "    latticeDim4={}\n",
    "    for view in lattice:\n",
    "        if len(view)==2: #select views at dim=2 or higher\n",
    "            dimension=list(view)\n",
    "            latticeDim2[view]=(lattice[view] , \\\n",
    "                               lattice[ dimension[0] ][1]*lattice[ dimension[1] ][1]  \n",
    "                              )\n",
    "            #print(view,latticeDim2[view])\n",
    "        \n",
    "    for view in latticeDim2:\n",
    "        newLattice[view]=latticeDim2[view]\n",
    "\n",
    "            \n",
    "    for view in lattice:\n",
    "        if len(view)==3:\n",
    "            dimension=list(view)\n",
    "            view3dim=''.join(dimension[:2])\n",
    "            latticeDim3[view]=( lattice[view],\\\n",
    "                               lattice[view3dim] [1] + lattice[view3dim][0] * lattice[dimension[-1]][1]\n",
    "            \n",
    "            )\n",
    "            #print(view,latticeDim3[view])    \n",
    "            \n",
    "    for view in latticeDim3:\n",
    "        newLattice[view]=latticeDim3[view]\n",
    "\n",
    "    \n",
    "    for view in lattice:\n",
    "        if len(view)==4:\n",
    "            dimension=list(view)\n",
    "            view3dim=''.join(dimension[:2])\n",
    "            view4dim=''.join(dimension[:3])\n",
    "            latticeDim4[view]=( lattice[view],\\\n",
    "                               lattice[view3dim][1] +\\\n",
    "                               lattice[view4dim][0] * lattice[dimension[-1]][1]\n",
    "                              )\n",
    "            #print(view,latticeDim4[view])    \n",
    "        \n",
    "    for view in latticeDim4:\n",
    "        newLattice[view]=latticeDim4[view]\n",
    "    \n",
    "    return newLattice"
   ]
  },
  {
   "cell_type": "code",
   "execution_count": 82,
   "metadata": {},
   "outputs": [
    {
     "data": {
      "text/plain": [
       "{'abcd': (53799, 90235665),\n",
       " 'abc': (47133, 90167676),\n",
       " 'abd': (18456, 90069865),\n",
       " 'acd': (603, 60920),\n",
       " 'bcd': (32918, 346290),\n",
       " 'ab': (13973, 90000000),\n",
       " 'ac': (184, 60000),\n",
       " 'ad': (58, 25000),\n",
       " 'bc': (26058, 216000),\n",
       " 'bd': (8186, 90000),\n",
       " 'cd': (48, 60),\n",
       " 'a': (19, 5000),\n",
       " 'b': (5329, 18000),\n",
       " 'c': (12, 12),\n",
       " 'd': (4, 5)}"
      ]
     },
     "execution_count": 82,
     "metadata": {},
     "output_type": "execute_result"
    }
   ],
   "source": [
    "newLattice = computationCost(newLattice)\n",
    "newLattice"
   ]
  },
  {
   "cell_type": "code",
   "execution_count": 83,
   "metadata": {},
   "outputs": [],
   "source": [
    "def probabilityOfChange(atributes_perDimension,lattice,accepted_probability_of_db_change_in_literature):\n",
    "    totalElements={}\n",
    "    probability={}\n",
    "    for view in lattice:\n",
    "        countElements=0\n",
    "        dimensions=list(view)\n",
    "        for dimension in dimensions:\n",
    "            if dimension in atributes_perDimension: #Consistency check for notation\n",
    "                countElements+=atributes_perDimension[dimension]\n",
    "        \n",
    "        totalElements[view]=countElements+len(view)\n",
    "        #print(view,totalElements[view])\n",
    "        \n",
    "    max_totalElements_key=max(totalElements, key=totalElements.get)\n",
    "    for view in lattice:\n",
    "        probability[view]= totalElements[view] * \\\n",
    "        accepted_probability_of_db_change_in_literature / \\\n",
    "        totalElements[max_totalElements_key]\n",
    "        \n",
    "    return probability"
   ]
  },
  {
   "cell_type": "code",
   "execution_count": 84,
   "metadata": {},
   "outputs": [
    {
     "data": {
      "text/plain": [
       "{'abcd': 0.2,\n",
       " 'abc': 0.18333333333333335,\n",
       " 'abd': 0.17222222222222222,\n",
       " 'acd': 0.18333333333333335,\n",
       " 'bcd': 0.061111111111111116,\n",
       " 'ab': 0.15555555555555556,\n",
       " 'ac': 0.16666666666666666,\n",
       " 'ad': 0.15555555555555556,\n",
       " 'bc': 0.044444444444444446,\n",
       " 'bd': 0.03333333333333334,\n",
       " 'cd': 0.044444444444444446,\n",
       " 'a': 0.1388888888888889,\n",
       " 'b': 0.01666666666666667,\n",
       " 'c': 0.027777777777777776,\n",
       " 'd': 0.01666666666666667}"
      ]
     },
     "execution_count": 84,
     "metadata": {},
     "output_type": "execute_result"
    }
   ],
   "source": [
    "probability=probabilityOfChange(atributes_perDimension,newLattice,0.2)\n",
    "probability"
   ]
  },
  {
   "cell_type": "code",
   "execution_count": 85,
   "metadata": {},
   "outputs": [],
   "source": [
    "lattice={\n",
    "    'abcd': 53799,\n",
    "    'abc':47133,'abd':18456,'acd':603,'bcd':32918,\n",
    "    'ab':13973, 'ac':184, 'ad':58, 'bc':26058,'bd':8186,'cd':48,\n",
    "    'a':19, 'b':5329, 'c':12,'d':4 \n",
    "}"
   ]
  },
  {
   "cell_type": "code",
   "execution_count": 86,
   "metadata": {},
   "outputs": [
    {
     "data": {
      "text/plain": [
       "{'abcd': 53799,\n",
       " 'abc': 47133,\n",
       " 'abd': 18456,\n",
       " 'acd': 603,\n",
       " 'bcd': 32918,\n",
       " 'ab': 13973,\n",
       " 'ac': 184,\n",
       " 'ad': 58,\n",
       " 'bc': 26058,\n",
       " 'bd': 8186,\n",
       " 'cd': 48,\n",
       " 'a': 19,\n",
       " 'b': 5329,\n",
       " 'c': 12,\n",
       " 'd': 4}"
      ]
     },
     "execution_count": 86,
     "metadata": {},
     "output_type": "execute_result"
    }
   ],
   "source": [
    "lattice"
   ]
  },
  {
   "cell_type": "code",
   "execution_count": 87,
   "metadata": {},
   "outputs": [],
   "source": [
    "def getGreedyBenefit(views,lattice,selectedViews):\n",
    "    B={}\n",
    "    for view in lattice:\n",
    "        storageCostDifference=0\n",
    "        benefit=[]\n",
    "        dependentViews=[]\n",
    "        if view not in selectedViews:\n",
    "            parent=getParentView(view,lattice,selectedViews)       \n",
    "            storageCostDifference=abs(lattice[view]-lattice[parent])\n",
    "            \n",
    "            #Count the number of dependent Views\n",
    "            view_dependentViews=dependencyCheck(view,views)     \n",
    "            \n",
    "            materialized_view_dependentViews=[]\n",
    "            \n",
    "            for selectedView in selectedViews:\n",
    "                if selectedView != parent and selectedView!=selectedViews[0]:\n",
    "                    materialized_view_dependentViews.extend(dependencyCheck(selectedView,views))\n",
    "                \n",
    "            dependentViews=\\\n",
    "            set(view_dependentViews).difference(set(materialized_view_dependentViews))\n",
    "            if dependentViews==set():\n",
    "                dependentViews=set(view)\n",
    "            #estimate the difference only for those selected nodes that are not parents\n",
    "        \n",
    "            addBenefit=additionalBenefit(views,lattice)\n",
    "            if addBenefit and addBenefit[1]== view:  \n",
    "                benefit.append((view,storageCostDifference,len(dependentViews),\\\n",
    "                dependentViews,storageCostDifference*len(dependentViews)+addBenefit[0]))\n",
    "                B[view]=storageCostDifference*len(dependentViews)+addBenefit[0]\n",
    "            else:\n",
    "                benefit.append((view,storageCostDifference,len(dependentViews),\\\n",
    "                dependentViews,storageCostDifference*len(dependentViews)))\n",
    "                B[view]=storageCostDifference*len(dependentViews)\n",
    "                \n",
    "        #print(benefit)\n",
    "\n",
    "    #Select the view with the highest benefit    \n",
    "    #update=max(B.items(), key=operator.itemgetter(1))[0]\n",
    "    #selectedViews.append(update)\n",
    "        \n",
    "    return B"
   ]
  },
  {
   "cell_type": "code",
   "execution_count": 88,
   "metadata": {},
   "outputs": [
    {
     "data": {
      "text/plain": [
       "{'abc': 46662,\n",
       " 'abd': 247401,\n",
       " 'acd': 372372,\n",
       " 'bcd': 146167,\n",
       " 'ab': 119478,\n",
       " 'ac': 160845,\n",
       " 'ad': 161223,\n",
       " 'bc': 83223,\n",
       " 'bd': 136839,\n",
       " 'cd': 161253,\n",
       " 'a': 53780,\n",
       " 'b': 48470,\n",
       " 'c': 53787,\n",
       " 'd': 53795}"
      ]
     },
     "execution_count": 88,
     "metadata": {},
     "output_type": "execute_result"
    }
   ],
   "source": [
    "greedyBenefit=getGreedyBenefit(views,lattice,selectedViews)\n",
    "greedyBenefit"
   ]
  },
  {
   "cell_type": "code",
   "execution_count": 97,
   "metadata": {},
   "outputs": [],
   "source": [
    "def getTriniBenefit(views,selectedViews,greedyBenefit,newLattice,probability):\n",
    "    newBenefit={}\n",
    "    fq={}\n",
    "    for view in views:\n",
    "        if view not in selectedViews:\n",
    "            fq[view]=len(dependencyCheck(view,views))\n",
    "            newBenefit[view]=\\\n",
    "            greedyBenefit[view] * fq[view] - \\\n",
    "            (\\\n",
    "            (newLattice[view][1] / fq[view] ) *\\\n",
    "            (1.0 + probability[view]) \n",
    "            )\n",
    "            \n",
    "            print (view,greedyBenefit[view] * fq[view], \\\n",
    "                   newLattice[view][1] / fq[view],\\\n",
    "                   (1 + probability[view]), newBenefit[view])\n",
    "    \n",
    "    #Select the view with the highest benefit    \n",
    "    update=max(newBenefit.items(), key=operator.itemgetter(1))[0]\n",
    "    selectedViews.append(update)\n",
    "    \n",
    "    print(selectedViews)"
   ]
  },
  {
   "cell_type": "code",
   "execution_count": 98,
   "metadata": {},
   "outputs": [
    {
     "name": "stdout",
     "output_type": "stream",
     "text": [
      "abc 326634 12881096.57142857 1.1833333333333333 -14915996.942857143\n",
      "abd 1731807 12867123.57142857 1.1722222222222223 -13351321.186507937\n",
      "acd 2606604 8702.857142857143 1.1833333333333333 2596305.619047619\n",
      "bcd 1023169 49470.0 1.0611111111111111 970675.8333333334\n",
      "ab 358434 30000000.0 1.1555555555555554 -34308232.666666664\n",
      "ac 482535 20000.0 1.1666666666666667 459201.6666666667\n",
      "ad 483669 8333.333333333334 1.1555555555555554 474039.3703703704\n",
      "bc 249669 72000.0 1.0444444444444445 174469.0\n",
      "bd 410517 30000.0 1.0333333333333334 379517.0\n",
      "cd 483759 20.0 1.0444444444444445 483738.1111111111\n",
      "a 53780 5000.0 1.1388888888888888 48085.555555555555\n",
      "b 48470 18000.0 1.0166666666666666 30170.0\n",
      "c 53787 12.0 1.0277777777777777 53774.666666666664\n",
      "d 53795 5.0 1.0166666666666666 53789.916666666664\n",
      "['abcd', 'acd']\n"
     ]
    }
   ],
   "source": [
    "selectedViews=['abcd']\n",
    "getTriniBenefit(views,selectedViews,greedyBenefit,newLattice,probability)"
   ]
  },
  {
   "cell_type": "code",
   "execution_count": 100,
   "metadata": {},
   "outputs": [
    {
     "name": "stdout",
     "output_type": "stream",
     "text": [
      "abc 326634 12881096.57142857 1.1833333333333333 -14915996.942857143\n",
      "abd 1731807 12867123.57142857 1.1722222222222223 -13351321.186507937\n",
      "bcd 1023169 49470.0 1.0611111111111111 970675.8333333334\n",
      "ab 358434 30000000.0 1.1555555555555554 -34308232.666666664\n",
      "ac 482535 20000.0 1.1666666666666667 459201.6666666667\n",
      "ad 483669 8333.333333333334 1.1555555555555554 474039.3703703704\n",
      "bc 249669 72000.0 1.0444444444444445 174469.0\n",
      "bd 410517 30000.0 1.0333333333333334 379517.0\n",
      "cd 483759 20.0 1.0444444444444445 483738.1111111111\n",
      "a 53780 5000.0 1.1388888888888888 48085.555555555555\n",
      "b 48470 18000.0 1.0166666666666666 30170.0\n",
      "c 53787 12.0 1.0277777777777777 53774.666666666664\n",
      "d 53795 5.0 1.0166666666666666 53789.916666666664\n",
      "['abcd', 'acd', 'bcd']\n"
     ]
    }
   ],
   "source": [
    "getTriniBenefit(views,selectedViews,greedyBenefit,newLattice,probability)"
   ]
  },
  {
   "cell_type": "code",
   "execution_count": 101,
   "metadata": {},
   "outputs": [
    {
     "name": "stdout",
     "output_type": "stream",
     "text": [
      "abc 326634 12881096.57142857 1.1833333333333333 -14915996.942857143\n",
      "abd 1731807 12867123.57142857 1.1722222222222223 -13351321.186507937\n",
      "ab 358434 30000000.0 1.1555555555555554 -34308232.666666664\n",
      "ac 482535 20000.0 1.1666666666666667 459201.6666666667\n",
      "ad 483669 8333.333333333334 1.1555555555555554 474039.3703703704\n",
      "bc 249669 72000.0 1.0444444444444445 174469.0\n",
      "bd 410517 30000.0 1.0333333333333334 379517.0\n",
      "cd 483759 20.0 1.0444444444444445 483738.1111111111\n",
      "a 53780 5000.0 1.1388888888888888 48085.555555555555\n",
      "b 48470 18000.0 1.0166666666666666 30170.0\n",
      "c 53787 12.0 1.0277777777777777 53774.666666666664\n",
      "d 53795 5.0 1.0166666666666666 53789.916666666664\n",
      "['abcd', 'acd', 'bcd', 'cd']\n"
     ]
    }
   ],
   "source": [
    "getTriniBenefit(views,selectedViews,greedyBenefit,newLattice,probability)"
   ]
  },
  {
   "cell_type": "code",
   "execution_count": 102,
   "metadata": {},
   "outputs": [
    {
     "name": "stdout",
     "output_type": "stream",
     "text": [
      "abc 326634 12881096.57142857 1.1833333333333333 -14915996.942857143\n",
      "abd 1731807 12867123.57142857 1.1722222222222223 -13351321.186507937\n",
      "ab 358434 30000000.0 1.1555555555555554 -34308232.666666664\n",
      "ac 482535 20000.0 1.1666666666666667 459201.6666666667\n",
      "ad 483669 8333.333333333334 1.1555555555555554 474039.3703703704\n",
      "bc 249669 72000.0 1.0444444444444445 174469.0\n",
      "bd 410517 30000.0 1.0333333333333334 379517.0\n",
      "a 53780 5000.0 1.1388888888888888 48085.555555555555\n",
      "b 48470 18000.0 1.0166666666666666 30170.0\n",
      "c 53787 12.0 1.0277777777777777 53774.666666666664\n",
      "d 53795 5.0 1.0166666666666666 53789.916666666664\n",
      "['abcd', 'acd', 'bcd', 'cd', 'ad']\n"
     ]
    }
   ],
   "source": [
    "getTriniBenefit(views,selectedViews,greedyBenefit,newLattice,probability)"
   ]
  },
  {
   "cell_type": "code",
   "execution_count": 103,
   "metadata": {},
   "outputs": [
    {
     "name": "stdout",
     "output_type": "stream",
     "text": [
      "abc 326634 12881096.57142857 1.1833333333333333 -14915996.942857143\n",
      "abd 1731807 12867123.57142857 1.1722222222222223 -13351321.186507937\n",
      "ab 358434 30000000.0 1.1555555555555554 -34308232.666666664\n",
      "ac 482535 20000.0 1.1666666666666667 459201.6666666667\n",
      "bc 249669 72000.0 1.0444444444444445 174469.0\n",
      "bd 410517 30000.0 1.0333333333333334 379517.0\n",
      "a 53780 5000.0 1.1388888888888888 48085.555555555555\n",
      "b 48470 18000.0 1.0166666666666666 30170.0\n",
      "c 53787 12.0 1.0277777777777777 53774.666666666664\n",
      "d 53795 5.0 1.0166666666666666 53789.916666666664\n",
      "['abcd', 'acd', 'bcd', 'cd', 'ad', 'ac']\n"
     ]
    }
   ],
   "source": [
    "getTriniBenefit(views,selectedViews,greedyBenefit,newLattice,probability)"
   ]
  },
  {
   "cell_type": "code",
   "execution_count": 104,
   "metadata": {},
   "outputs": [
    {
     "name": "stdout",
     "output_type": "stream",
     "text": [
      "abc 326634 12881096.57142857 1.1833333333333333 -14915996.942857143\n",
      "abd 1731807 12867123.57142857 1.1722222222222223 -13351321.186507937\n",
      "ab 358434 30000000.0 1.1555555555555554 -34308232.666666664\n",
      "bc 249669 72000.0 1.0444444444444445 174469.0\n",
      "bd 410517 30000.0 1.0333333333333334 379517.0\n",
      "a 53780 5000.0 1.1388888888888888 48085.555555555555\n",
      "b 48470 18000.0 1.0166666666666666 30170.0\n",
      "c 53787 12.0 1.0277777777777777 53774.666666666664\n",
      "d 53795 5.0 1.0166666666666666 53789.916666666664\n",
      "['abcd', 'acd', 'bcd', 'cd', 'ad', 'ac', 'bd']\n"
     ]
    }
   ],
   "source": [
    "getTriniBenefit(views,selectedViews,greedyBenefit,newLattice,probability)"
   ]
  },
  {
   "cell_type": "code",
   "execution_count": 105,
   "metadata": {},
   "outputs": [
    {
     "name": "stdout",
     "output_type": "stream",
     "text": [
      "abc 326634 12881096.57142857 1.1833333333333333 -14915996.942857143\n",
      "abd 1731807 12867123.57142857 1.1722222222222223 -13351321.186507937\n",
      "ab 358434 30000000.0 1.1555555555555554 -34308232.666666664\n",
      "bc 249669 72000.0 1.0444444444444445 174469.0\n",
      "a 53780 5000.0 1.1388888888888888 48085.555555555555\n",
      "b 48470 18000.0 1.0166666666666666 30170.0\n",
      "c 53787 12.0 1.0277777777777777 53774.666666666664\n",
      "d 53795 5.0 1.0166666666666666 53789.916666666664\n",
      "['abcd', 'acd', 'bcd', 'cd', 'ad', 'ac', 'bd', 'bc']\n"
     ]
    }
   ],
   "source": [
    "getTriniBenefit(views,selectedViews,greedyBenefit,newLattice,probability)"
   ]
  },
  {
   "cell_type": "code",
   "execution_count": 106,
   "metadata": {},
   "outputs": [
    {
     "name": "stdout",
     "output_type": "stream",
     "text": [
      "abc 326634 12881096.57142857 1.1833333333333333 -14915996.942857143\n",
      "abd 1731807 12867123.57142857 1.1722222222222223 -13351321.186507937\n",
      "ab 358434 30000000.0 1.1555555555555554 -34308232.666666664\n",
      "a 53780 5000.0 1.1388888888888888 48085.555555555555\n",
      "b 48470 18000.0 1.0166666666666666 30170.0\n",
      "c 53787 12.0 1.0277777777777777 53774.666666666664\n",
      "d 53795 5.0 1.0166666666666666 53789.916666666664\n",
      "['abcd', 'acd', 'bcd', 'cd', 'ad', 'ac', 'bd', 'bc', 'd']\n"
     ]
    }
   ],
   "source": [
    "getTriniBenefit(views,selectedViews,greedyBenefit,newLattice,probability)"
   ]
  },
  {
   "cell_type": "code",
   "execution_count": 107,
   "metadata": {},
   "outputs": [
    {
     "name": "stdout",
     "output_type": "stream",
     "text": [
      "abc 326634 12881096.57142857 1.1833333333333333 -14915996.942857143\n",
      "abd 1731807 12867123.57142857 1.1722222222222223 -13351321.186507937\n",
      "ab 358434 30000000.0 1.1555555555555554 -34308232.666666664\n",
      "a 53780 5000.0 1.1388888888888888 48085.555555555555\n",
      "b 48470 18000.0 1.0166666666666666 30170.0\n",
      "c 53787 12.0 1.0277777777777777 53774.666666666664\n",
      "['abcd', 'acd', 'bcd', 'cd', 'ad', 'ac', 'bd', 'bc', 'd', 'c']\n"
     ]
    }
   ],
   "source": [
    "getTriniBenefit(views,selectedViews,greedyBenefit,newLattice,probability)"
   ]
  },
  {
   "cell_type": "code",
   "execution_count": null,
   "metadata": {},
   "outputs": [],
   "source": []
  }
 ],
 "metadata": {
  "kernelspec": {
   "display_name": "Python 3",
   "language": "python",
   "name": "python3"
  },
  "language_info": {
   "codemirror_mode": {
    "name": "ipython",
    "version": 3
   },
   "file_extension": ".py",
   "mimetype": "text/x-python",
   "name": "python",
   "nbconvert_exporter": "python",
   "pygments_lexer": "ipython3",
   "version": "3.7.4"
  }
 },
 "nbformat": 4,
 "nbformat_minor": 2
}
