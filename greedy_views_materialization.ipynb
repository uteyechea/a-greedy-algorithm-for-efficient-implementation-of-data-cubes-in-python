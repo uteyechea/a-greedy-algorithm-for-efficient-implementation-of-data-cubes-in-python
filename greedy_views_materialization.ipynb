{
 "cells": [
  {
   "cell_type": "code",
   "execution_count": 29,
   "metadata": {},
   "outputs": [],
   "source": [
    "import operator"
   ]
  },
  {
   "cell_type": "markdown",
   "metadata": {},
   "source": [
    "### Harinarayan, Rajaraman, Ullman Lattice "
   ]
  },
  {
   "cell_type": "code",
   "execution_count": null,
   "metadata": {},
   "outputs": [],
   "source": [
    "#The order of the dictionary entries matter because...dependency,etc\n",
    "lattice={\n",
    "        'abcd':100,\n",
    "        'abc':50,'acd':75,\n",
    "        'ab':20,'ac':30,'cd':40,\n",
    "        'a':1,'c':10\n",
    "        }"
   ]
  },
  {
   "cell_type": "markdown",
   "metadata": {},
   "source": [
    "### Trinidad Serna Lattice"
   ]
  },
  {
   "cell_type": "code",
   "execution_count": 108,
   "metadata": {},
   "outputs": [],
   "source": [
    "lattice={\n",
    "    'abcde': 53799,\n",
    "    'abce':47133,'abde':18456,'acde':603,'bcde':32918,\n",
    "    'abe':13973, 'ace':184, 'ade':58, 'bce':26058,'bde':8186,'cde':48,\n",
    "    'ae':19, 'be':5329, 'ce':12,'de':4,\n",
    "    'e':1\n",
    "}"
   ]
  },
  {
   "cell_type": "markdown",
   "metadata": {},
   "source": [
    "### Ulises Teyechea Lattice"
   ]
  },
  {
   "cell_type": "code",
   "execution_count": 135,
   "metadata": {},
   "outputs": [],
   "source": [
    "lattice={\n",
    "    'abcde': 1023860,\n",
    "    'abce':1019641,'abde':18456,'acde':290355,'bcde':49909,\n",
    "    'abe':975300, 'ace':241820, 'ade':54765, 'bce':31171,'bde':2196,'cde':66,\n",
    "    'ae':31543, 'be':1458, 'ce':34,'de':2,\n",
    "    'e':1\n",
    "}"
   ]
  },
  {
   "cell_type": "code",
   "execution_count": 136,
   "metadata": {},
   "outputs": [
    {
     "data": {
      "text/plain": [
       "['abcde',\n",
       " 'abce',\n",
       " 'abde',\n",
       " 'acde',\n",
       " 'bcde',\n",
       " 'abe',\n",
       " 'ace',\n",
       " 'ade',\n",
       " 'bce',\n",
       " 'bde',\n",
       " 'cde',\n",
       " 'ae',\n",
       " 'be',\n",
       " 'ce',\n",
       " 'de',\n",
       " 'e']"
      ]
     },
     "execution_count": 136,
     "metadata": {},
     "output_type": "execute_result"
    }
   ],
   "source": [
    "views=list(lattice.keys())\n",
    "views"
   ]
  },
  {
   "cell_type": "code",
   "execution_count": 137,
   "metadata": {},
   "outputs": [],
   "source": [
    "selectedViews=['abcd'] #Always selected by default, also known as Top View"
   ]
  },
  {
   "cell_type": "code",
   "execution_count": 138,
   "metadata": {},
   "outputs": [],
   "source": [
    "def dependencyCheck(view,views):\n",
    "    #compare dependency of view1 with view2\n",
    "    #if views is a single element compare individual dependency if it is a set give a count \n",
    "    #and output a list of dependent views. \n",
    "    \n",
    "    dependentViewsCount=0\n",
    "    dependentViews=[]\n",
    "    for anotherView in views:\n",
    "        n=0\n",
    "        for dimension in view:\n",
    "            #print('dimension',dimension)\n",
    "            for subDimension in anotherView:\n",
    "                #print('sub dimension',subDimension)\n",
    "                if dimension == subDimension: \n",
    "                    n+=1\n",
    "                    #print('found, count ', n )\n",
    "        if n == len(anotherView):\n",
    "            dependentViews.append(anotherView)\n",
    "            #print(n,len(anotherView))\n",
    "            #print('dependent view found',dependentViewsCount)\n",
    "    return dependentViews"
   ]
  },
  {
   "cell_type": "code",
   "execution_count": 139,
   "metadata": {},
   "outputs": [
    {
     "name": "stdout",
     "output_type": "stream",
     "text": [
      "La vista  abcde tiene estas vistas dependientes  ['abcde', 'abce', 'abde', 'acde', 'bcde', 'abe', 'ace', 'ade', 'bce', 'bde', 'cde', 'ae', 'be', 'ce', 'de', 'e']\n",
      "La vista  abce tiene estas vistas dependientes  ['abce', 'abe', 'ace', 'bce', 'ae', 'be', 'ce', 'e']\n",
      "La vista  abde tiene estas vistas dependientes  ['abde', 'abe', 'ade', 'bde', 'ae', 'be', 'de', 'e']\n",
      "La vista  acde tiene estas vistas dependientes  ['acde', 'ace', 'ade', 'cde', 'ae', 'ce', 'de', 'e']\n",
      "La vista  bcde tiene estas vistas dependientes  ['bcde', 'bce', 'bde', 'cde', 'be', 'ce', 'de', 'e']\n",
      "La vista  abe tiene estas vistas dependientes  ['abe', 'ae', 'be', 'e']\n",
      "La vista  ace tiene estas vistas dependientes  ['ace', 'ae', 'ce', 'e']\n",
      "La vista  ade tiene estas vistas dependientes  ['ade', 'ae', 'de', 'e']\n",
      "La vista  bce tiene estas vistas dependientes  ['bce', 'be', 'ce', 'e']\n",
      "La vista  bde tiene estas vistas dependientes  ['bde', 'be', 'de', 'e']\n",
      "La vista  cde tiene estas vistas dependientes  ['cde', 'ce', 'de', 'e']\n",
      "La vista  ae tiene estas vistas dependientes  ['ae', 'e']\n",
      "La vista  be tiene estas vistas dependientes  ['be', 'e']\n",
      "La vista  ce tiene estas vistas dependientes  ['ce', 'e']\n",
      "La vista  de tiene estas vistas dependientes  ['de', 'e']\n",
      "La vista  e tiene estas vistas dependientes  ['e']\n"
     ]
    }
   ],
   "source": [
    "for view in views:\n",
    "    print('La vista ',view,'tiene estas vistas dependientes ',dependencyCheck(view,views))"
   ]
  },
  {
   "cell_type": "code",
   "execution_count": 140,
   "metadata": {},
   "outputs": [],
   "source": [
    "def additionalBenefit(views,lattice):\n",
    "    benefit=[]\n",
    "    minBenefit=0\n",
    "    for v in views:\n",
    "        if v not in selectedViews:\n",
    "            #print(v)\n",
    "            dependentViewsCount=dependencyCheck(selectedViews[-1],[v])\n",
    "            if len(dependentViewsCount) <= 0:\n",
    "                if lattice[v] < lattice[selectedViews[-1]]:\n",
    "                    \n",
    "                    addBenefit=abs(lattice[v]-lattice[selectedViews[-1]])\n",
    "                    benefit.append((addBenefit,v))\n",
    "                    \n",
    "    if benefit:\n",
    "        minBenefit=min(benefit)\n",
    "        #print(minBenefit,v)\n",
    "    return minBenefit"
   ]
  },
  {
   "cell_type": "code",
   "execution_count": 141,
   "metadata": {},
   "outputs": [],
   "source": [
    "def isConnected(view1,view2):\n",
    "    isParent=dependencyCheck(view1,[view2])\n",
    "    if len(isParent) > 0:\n",
    "        return True\n",
    "    else:\n",
    "        return False"
   ]
  },
  {
   "cell_type": "code",
   "execution_count": 142,
   "metadata": {},
   "outputs": [
    {
     "data": {
      "text/plain": [
       "True"
      ]
     },
     "execution_count": 142,
     "metadata": {},
     "output_type": "execute_result"
    }
   ],
   "source": [
    "isConnected('abc','a')"
   ]
  },
  {
   "cell_type": "code",
   "execution_count": 143,
   "metadata": {},
   "outputs": [],
   "source": [
    "def getParentView(view,lattice,selectedViews):\n",
    "    parents=[]\n",
    "    for v in lattice:\n",
    "        if v != view:\n",
    "            if isConnected(v,view):\n",
    "                parents.append(v)\n",
    "    #print(parents)\n",
    "    #parents will alwayas have at least the top view\n",
    "    newParent=selectedViews[0] # Top View\n",
    "    for parent in parents:\n",
    "            if parent in selectedViews:\n",
    "                if lattice[parent]<lattice[newParent]: #select as parent the one with the smallest storage cost\n",
    "                    newParent=parent\n",
    "                    #print('newParent ',newParent)\n",
    "    return newParent  "
   ]
  },
  {
   "cell_type": "code",
   "execution_count": 144,
   "metadata": {},
   "outputs": [],
   "source": [
    "#Test if c which has two selected views as parents correctly chooses the cheapest one\n",
    "#selectedViews=['abcd','abc','cd']\n",
    "#getParentView('c',lattice,selectedViews)"
   ]
  },
  {
   "cell_type": "code",
   "execution_count": 145,
   "metadata": {},
   "outputs": [],
   "source": [
    "def getBenefit(views,lattice,selectedViews):\n",
    "    B={}\n",
    "    for view in lattice:\n",
    "        storageCostDifference=0\n",
    "        benefit=[]\n",
    "        dependentViews=[]\n",
    "        if view not in selectedViews:\n",
    "            parent=getParentView(view,lattice,selectedViews)       \n",
    "            storageCostDifference=abs(lattice[view]-lattice[parent])\n",
    "            \n",
    "            #Count the number of dependent Views\n",
    "            view_dependentViews=dependencyCheck(view,views)\n",
    "            \n",
    "            \n",
    "            materialized_view_dependentViews=[]\n",
    "            #for selectedView in selectedViews:    \n",
    "            #    parent=getParentView(view,lattice,selectedViews)\n",
    "            #    if parent != selectedView and parent==selectedViews[0]:#Original\n",
    "            #        materialized_view_dependentViews.extend(dependencyCheck(selectedView,views))\n",
    "            \n",
    "            \n",
    "            for selectedView in selectedViews:\n",
    "                if selectedView != parent and selectedView!=selectedViews[0]:\n",
    "                    materialized_view_dependentViews.extend(dependencyCheck(selectedView,views))\n",
    "                \n",
    "                \n",
    "                \n",
    "                \n",
    "            dependentViews=\\\n",
    "            set(view_dependentViews).difference(set(materialized_view_dependentViews))\n",
    "            if dependentViews==set():\n",
    "                dependentViews=set(view)\n",
    "            #estimate the difference only for those selected nodes that are not parents\n",
    "        \n",
    "            addBenefit=additionalBenefit(views,lattice)\n",
    "            if addBenefit and addBenefit[1]== view:  \n",
    "                benefit.append((view,storageCostDifference,len(dependentViews),\\\n",
    "                dependentViews,storageCostDifference*len(dependentViews)+addBenefit[0]))\n",
    "                B[view]=storageCostDifference*len(dependentViews)+addBenefit[0]\n",
    "            else:\n",
    "                benefit.append((view,storageCostDifference,len(dependentViews),\\\n",
    "                dependentViews,storageCostDifference*len(dependentViews)))\n",
    "                B[view]=storageCostDifference*len(dependentViews)\n",
    "                \n",
    "        print(benefit)\n",
    "        \n",
    "        #Update Selected Views\n",
    "        #B[view]=storageCostDifference*len(dependentViews)+addBenefit[0]\n",
    "        \n",
    "    update=max(B.items(), key=operator.itemgetter(1))[0]\n",
    "    selectedViews.append(update)\n",
    "        \n",
    "    return selectedViews"
   ]
  },
  {
   "cell_type": "code",
   "execution_count": 146,
   "metadata": {},
   "outputs": [
    {
     "name": "stdout",
     "output_type": "stream",
     "text": [
      "[]\n",
      "[('abce', 4219, 8, {'ce', 'abce', 'ae', 'abe', 'be', 'ace', 'bce', 'e'}, 33752)]\n",
      "[('abde', 1005404, 8, {'bde', 'ae', 'abe', 'abde', 'be', 'ade', 'de', 'e'}, 8043232)]\n",
      "[('acde', 733505, 8, {'ce', 'cde', 'ae', 'acde', 'ade', 'ace', 'de', 'e'}, 5868040)]\n",
      "[('bcde', 973951, 8, {'bde', 'ce', 'cde', 'bcde', 'be', 'bce', 'de', 'e'}, 7791608)]\n",
      "[('abe', 48560, 4, {'be', 'ae', 'abe', 'e'}, 194240)]\n",
      "[('ace', 782040, 4, {'ae', 'ce', 'ace', 'e'}, 3128160)]\n",
      "[('ade', 969095, 4, {'ae', 'ade', 'de', 'e'}, 3876380)]\n",
      "[('bce', 992689, 4, {'be', 'ce', 'bce', 'e'}, 3970756)]\n",
      "[('bde', 1021664, 4, {'bde', 'be', 'de', 'e'}, 4086656)]\n",
      "[('cde', 1023794, 4, {'ce', 'cde', 'de', 'e'}, 4095176)]\n",
      "[('ae', 992317, 2, {'ae', 'e'}, 1984634)]\n",
      "[('be', 1022402, 2, {'be', 'e'}, 2044804)]\n",
      "[('ce', 1023826, 2, {'ce', 'e'}, 2047652)]\n",
      "[('de', 1023858, 2, {'de', 'e'}, 2047716)]\n",
      "[('e', 1023859, 1, {'e'}, 1023859)]\n"
     ]
    },
    {
     "data": {
      "text/plain": [
       "['abcde', 'abde']"
      ]
     },
     "execution_count": 146,
     "metadata": {},
     "output_type": "execute_result"
    }
   ],
   "source": [
    "selectedViews=['abcde']\n",
    "getBenefit(views,lattice,selectedViews)\n",
    "selectedViews"
   ]
  },
  {
   "cell_type": "code",
   "execution_count": 148,
   "metadata": {},
   "outputs": [
    {
     "name": "stdout",
     "output_type": "stream",
     "text": [
      "[]\n",
      "[('abce', 4219, 2, {'ace', 'abce'}, 8438)]\n",
      "[]\n",
      "[('acde', 733505, 2, {'acde', 'ace'}, 1467010)]\n",
      "[]\n",
      "[('abe', 956844, 2, {'ae', 'abe'}, 1913688)]\n",
      "[('ace', 782040, 1, {'ace'}, 782040)]\n",
      "[('ade', 36309, 2, {'ae', 'ade'}, 72618)]\n",
      "[('bce', 18738, 2, {'ce', 'bce'}, 37476)]\n",
      "[('bde', 16260, 3, {'d', 'e', 'b'}, 48780)]\n",
      "[('cde', 49843, 2, {'ce', 'cde'}, 99686)]\n",
      "[('ae', 13087, 1, {'ae'}, 31453)]\n",
      "[('be', 16998, 2, {'e', 'b'}, 33996)]\n",
      "[('ce', 49875, 1, {'ce'}, 49875)]\n",
      "[('de', 18454, 2, {'d', 'e'}, 36908)]\n",
      "[('e', 18455, 1, {'e'}, 18455)]\n"
     ]
    },
    {
     "data": {
      "text/plain": [
       "['abcde', 'abde', 'bcde', 'abe']"
      ]
     },
     "execution_count": 148,
     "metadata": {},
     "output_type": "execute_result"
    }
   ],
   "source": [
    "getBenefit(views,lattice,selectedViews)\n",
    "selectedViews"
   ]
  },
  {
   "cell_type": "code",
   "execution_count": 149,
   "metadata": {},
   "outputs": [
    {
     "name": "stdout",
     "output_type": "stream",
     "text": [
      "[]\n",
      "[('abce', 4219, 2, {'ace', 'abce'}, 8438)]\n",
      "[]\n",
      "[('acde', 733505, 2, {'acde', 'ace'}, 2151955)]\n",
      "[]\n",
      "[]\n",
      "[('ace', 782040, 1, {'ace'}, 782040)]\n",
      "[('ade', 36309, 1, {'ade'}, 36309)]\n",
      "[('bce', 18738, 2, {'ce', 'bce'}, 37476)]\n",
      "[('bde', 16260, 3, {'d', 'e', 'b'}, 48780)]\n",
      "[('cde', 49843, 2, {'ce', 'cde'}, 99686)]\n",
      "[('ae', 13087, 2, {'a', 'e'}, 26174)]\n",
      "[('be', 16998, 2, {'e', 'b'}, 33996)]\n",
      "[('ce', 49875, 1, {'ce'}, 49875)]\n",
      "[('de', 18454, 2, {'d', 'e'}, 36908)]\n",
      "[('e', 18455, 1, {'e'}, 18455)]\n"
     ]
    },
    {
     "data": {
      "text/plain": [
       "['abcde', 'abde', 'bcde', 'abe', 'acde']"
      ]
     },
     "execution_count": 149,
     "metadata": {},
     "output_type": "execute_result"
    }
   ],
   "source": [
    "getBenefit(views,lattice,selectedViews)\n",
    "selectedViews"
   ]
  },
  {
   "cell_type": "code",
   "execution_count": 150,
   "metadata": {},
   "outputs": [
    {
     "name": "stdout",
     "output_type": "stream",
     "text": [
      "[]\n",
      "[('abce', 4219, 1, {'abce'}, 4219)]\n",
      "[]\n",
      "[]\n",
      "[]\n",
      "[]\n",
      "[('ace', 48535, 1, {'ace'}, 48535)]\n",
      "[('ade', 36309, 3, {'d', 'a', 'e'}, 108927)]\n",
      "[('bce', 18738, 1, {'bce'}, 277922)]\n",
      "[('bde', 16260, 3, {'d', 'e', 'b'}, 48780)]\n",
      "[('cde', 49843, 3, {'d', 'c', 'e'}, 149529)]\n",
      "[('ae', 13087, 2, {'a', 'e'}, 26174)]\n",
      "[('be', 16998, 2, {'e', 'b'}, 33996)]\n",
      "[('ce', 49875, 2, {'c', 'e'}, 99750)]\n",
      "[('de', 18454, 2, {'d', 'e'}, 36908)]\n",
      "[('e', 18455, 1, {'e'}, 18455)]\n"
     ]
    },
    {
     "data": {
      "text/plain": [
       "['abcde', 'abde', 'bcde', 'abe', 'acde', 'bce']"
      ]
     },
     "execution_count": 150,
     "metadata": {},
     "output_type": "execute_result"
    }
   ],
   "source": [
    "getBenefit(views,lattice,selectedViews)\n",
    "selectedViews"
   ]
  },
  {
   "cell_type": "code",
   "execution_count": 151,
   "metadata": {},
   "outputs": [
    {
     "name": "stdout",
     "output_type": "stream",
     "text": [
      "[]\n",
      "[('abce', 4219, 1, {'abce'}, 4219)]\n",
      "[]\n",
      "[]\n",
      "[]\n",
      "[]\n",
      "[('ace', 48535, 1, {'ace'}, 48535)]\n",
      "[('ade', 36309, 3, {'d', 'a', 'e'}, 108927)]\n",
      "[]\n",
      "[('bde', 16260, 3, {'d', 'e', 'b'}, 77755)]\n",
      "[('cde', 49843, 3, {'d', 'c', 'e'}, 149529)]\n",
      "[('ae', 13087, 2, {'a', 'e'}, 26174)]\n",
      "[('be', 16998, 2, {'e', 'b'}, 33996)]\n",
      "[('ce', 31137, 2, {'c', 'e'}, 62274)]\n",
      "[('de', 18454, 2, {'d', 'e'}, 36908)]\n",
      "[('e', 18455, 1, {'e'}, 18455)]\n"
     ]
    },
    {
     "data": {
      "text/plain": [
       "['abcde', 'abde', 'bcde', 'abe', 'acde', 'bce', 'cde']"
      ]
     },
     "execution_count": 151,
     "metadata": {},
     "output_type": "execute_result"
    }
   ],
   "source": [
    "getBenefit(views,lattice,selectedViews)\n",
    "selectedViews"
   ]
  },
  {
   "cell_type": "code",
   "execution_count": 152,
   "metadata": {},
   "outputs": [
    {
     "name": "stdout",
     "output_type": "stream",
     "text": [
      "[]\n",
      "[('abce', 4219, 1, {'abce'}, 4219)]\n",
      "[]\n",
      "[]\n",
      "[]\n",
      "[]\n",
      "[('ace', 48535, 1, {'ace'}, 48535)]\n",
      "[('ade', 36309, 3, {'d', 'a', 'e'}, 108927)]\n",
      "[]\n",
      "[('bde', 16260, 3, {'d', 'e', 'b'}, 48780)]\n",
      "[]\n",
      "[('ae', 13087, 2, {'a', 'e'}, 26174)]\n",
      "[('be', 16998, 2, {'e', 'b'}, 33996)]\n",
      "[('ce', 32, 2, {'c', 'e'}, 64)]\n",
      "[('de', 64, 2, {'d', 'e'}, 128)]\n",
      "[('e', 65, 1, {'e'}, 65)]\n"
     ]
    },
    {
     "data": {
      "text/plain": [
       "['abcde', 'abde', 'bcde', 'abe', 'acde', 'bce', 'cde', 'ade']"
      ]
     },
     "execution_count": 152,
     "metadata": {},
     "output_type": "execute_result"
    }
   ],
   "source": [
    "getBenefit(views,lattice,selectedViews)\n",
    "selectedViews"
   ]
  },
  {
   "cell_type": "code",
   "execution_count": 153,
   "metadata": {},
   "outputs": [
    {
     "name": "stdout",
     "output_type": "stream",
     "text": [
      "[]\n",
      "[('abce', 4219, 1, {'abce'}, 4219)]\n",
      "[]\n",
      "[]\n",
      "[]\n",
      "[]\n",
      "[('ace', 48535, 1, {'ace'}, 48535)]\n",
      "[]\n",
      "[]\n",
      "[('bde', 16260, 3, {'d', 'e', 'b'}, 101349)]\n",
      "[]\n",
      "[('ae', 13087, 2, {'a', 'e'}, 26174)]\n",
      "[('be', 16998, 2, {'e', 'b'}, 33996)]\n",
      "[('ce', 32, 2, {'c', 'e'}, 64)]\n",
      "[('de', 64, 2, {'d', 'e'}, 128)]\n",
      "[('e', 65, 1, {'e'}, 65)]\n"
     ]
    },
    {
     "data": {
      "text/plain": [
       "['abcde', 'abde', 'bcde', 'abe', 'acde', 'bce', 'cde', 'ade', 'bde']"
      ]
     },
     "execution_count": 153,
     "metadata": {},
     "output_type": "execute_result"
    }
   ],
   "source": [
    "getBenefit(views,lattice,selectedViews)\n",
    "selectedViews"
   ]
  },
  {
   "cell_type": "code",
   "execution_count": 154,
   "metadata": {},
   "outputs": [
    {
     "data": {
      "text/plain": [
       "{'abcde': 1023860,\n",
       " 'abce': 1019641,\n",
       " 'abde': 18456,\n",
       " 'acde': 290355,\n",
       " 'bcde': 49909,\n",
       " 'abe': 975300,\n",
       " 'ace': 241820,\n",
       " 'ade': 54765,\n",
       " 'bce': 31171,\n",
       " 'bde': 2196,\n",
       " 'cde': 66,\n",
       " 'ae': 31543,\n",
       " 'be': 1458,\n",
       " 'ce': 34,\n",
       " 'de': 2,\n",
       " 'e': 1}"
      ]
     },
     "execution_count": 154,
     "metadata": {},
     "output_type": "execute_result"
    }
   ],
   "source": [
    "lattice "
   ]
  },
  {
   "cell_type": "markdown",
   "metadata": {},
   "source": [
    "### Trinidad Serna Improved Hypercube views materialization"
   ]
  },
  {
   "cell_type": "code",
   "execution_count": 80,
   "metadata": {},
   "outputs": [],
   "source": [
    "#Lattice views with only one dimension. Notation (storageCost,computationCost). \n",
    "#These values are specified by the user.\n",
    "latticeDim1={\n",
    "    'a':(19,5000), 'b':(5329,18000), 'c':(12,12),'d':(4,5) \n",
    "}\n",
    "\n",
    "#For each view count and input the number of atributes in total for each dimension\n",
    "atributes_perDimension={\n",
    "    'a':24, 'b':2, 'c':4,'d':2 \n",
    "}\n",
    "\n",
    "#Full lattice with all the views, must use the letters of each dimension, i.e. a,b,c,etc to\n",
    "#indicate the dependencies, for example acd is the parent view of ac,ad,cd,a,c and d.\n",
    "lattice={\n",
    "    'abcd': 53799,\n",
    "    'abc':47133,'abd':18456,'acd':603,'bcd':32918,\n",
    "    'ab':13973, 'ac':184, 'ad':58, 'bc':26058,'bd':8186,'cd':48,\n",
    "    'a':19, 'b':5329, 'c':12,'d':4 \n",
    "    \n",
    "}\n",
    "\n",
    "views=list(lattice.keys())\n",
    "selectedViews=['abcd']\n",
    "\n",
    "newLattice=lattice\n",
    "for view in latticeDim1:\n",
    "    newLattice[view]=latticeDim1[view]"
   ]
  },
  {
   "cell_type": "markdown",
   "metadata": {},
   "source": [
    "### Ulises Teyechea Lattice Data"
   ]
  },
  {
   "cell_type": "code",
   "execution_count": 211,
   "metadata": {},
   "outputs": [],
   "source": [
    "#Lattice views with only one dimension. Notation (storageCost,computationCost). \n",
    "#These values are specified by the user.\n",
    "latticeDim1={\n",
    "    'ae':(31543,31543), 'be':(1458,2192), 'ce':(34,34),'de':(2,2) \n",
    "}\n",
    "\n",
    "#For each view count and input the number of atributes in total for each dimension\n",
    "atributes_perDimension={\n",
    "    'ae':1, 'be':4, 'ce':1,'de':1 \n",
    "}\n",
    "\n",
    "#Full lattice with all the views, must use the letters of each dimension, i.e. a,b,c,etc to\n",
    "#indicate the dependencies, for example acd is the parent view of ac,ad,cd,a,c and d.\n",
    "lattice={\n",
    "    'abcde': 1023860,\n",
    "    'abce':1019641,'abde':18456,'acde':290355,'bcde':49909,\n",
    "    'abe':975300, 'ace':241820, 'ade':54765, 'bce':31171,'bde':2196,'cde':66,\n",
    "    'ae':31543, 'be':1458, 'ce':34,'de':2,\n",
    "    'e':1\n",
    "}\n",
    "\n",
    "views=list(lattice.keys())\n",
    "selectedViews=['abcde']\n",
    "\n",
    "newLattice=lattice\n",
    "for view in latticeDim1:\n",
    "    newLattice[view]=latticeDim1[view]"
   ]
  },
  {
   "cell_type": "code",
   "execution_count": 212,
   "metadata": {},
   "outputs": [
    {
     "data": {
      "text/plain": [
       "{'abcde': 1023860,\n",
       " 'abce': 1019641,\n",
       " 'abde': 18456,\n",
       " 'acde': 290355,\n",
       " 'bcde': 49909,\n",
       " 'abe': 975300,\n",
       " 'ace': 241820,\n",
       " 'ade': 54765,\n",
       " 'bce': 31171,\n",
       " 'bde': 2196,\n",
       " 'cde': 66,\n",
       " 'ae': (31543, 31543),\n",
       " 'be': (1458, 2192),\n",
       " 'ce': (34, 34),\n",
       " 'de': (2, 2),\n",
       " 'e': 1}"
      ]
     },
     "execution_count": 212,
     "metadata": {},
     "output_type": "execute_result"
    }
   ],
   "source": [
    "lattice"
   ]
  },
  {
   "cell_type": "code",
   "execution_count": 213,
   "metadata": {},
   "outputs": [],
   "source": [
    "#Due to lack of time this algorithm will only work for up\n",
    "#to views made of 4 dimensions maximum\n",
    "def computationCost(lattice):\n",
    "    latticeDim2={}\n",
    "    latticeDim3={}\n",
    "    latticeDim4={}\n",
    "    for view in lattice:\n",
    "        if len(view)==3: #select views at dim=2 or higher\n",
    "            dimension=list(view)\n",
    "            latticeDim2[view]=(lattice[view] , \\\n",
    "                               lattice[ dimension[0]+'e'][1] * lattice[ dimension[1]+'e' ][1]  \n",
    "                              )\n",
    "            print(view,latticeDim2[view])\n",
    "        \n",
    "    for view in latticeDim2:\n",
    "        newLattice[view]=latticeDim2[view]\n",
    "\n",
    "            \n",
    "    for view in lattice:\n",
    "        if len(view)==4:\n",
    "            dimension=list(view)\n",
    "            view3dim=''.join(dimension[:2])\n",
    "            latticeDim3[view]=( lattice[view],\\\n",
    "                               lattice[view3dim+'e'][1] +\\\n",
    "                               lattice[view3dim+'e'][0] * lattice[dimension[-2]+'e'][1]\n",
    "            \n",
    "            )\n",
    "            print(view,latticeDim3[view])    \n",
    "            \n",
    "    for view in latticeDim3:\n",
    "        newLattice[view]=latticeDim3[view]\n",
    "\n",
    "    \"\"\"\n",
    "    for view in lattice:\n",
    "        if len(view)==5:\n",
    "            dimension=list(view)\n",
    "            view3dim=''.join(dimension[:2])\n",
    "            view4dim=''.join(dimension[:3])\n",
    "            latticeDim4[view]=( lattice[view],\\\n",
    "                               lattice[view3dim][1] +\\\n",
    "                               lattice[view3dim][0] * lattice[dimension[-2]][1] +\\\n",
    "                               lattice[view4dim][0] * lattice[dimension[-2]][1]\n",
    "                              )\n",
    "            #print(view,latticeDim4[view])    \n",
    "\"\"\"        \n",
    "    for view in latticeDim4:\n",
    "        newLattice[view]=latticeDim4[view]\n",
    "    \n",
    "    return newLattice"
   ]
  },
  {
   "cell_type": "code",
   "execution_count": 214,
   "metadata": {},
   "outputs": [
    {
     "data": {
      "text/plain": [
       "{'abcde': 1023860,\n",
       " 'abce': 1019641,\n",
       " 'abde': 18456,\n",
       " 'acde': 290355,\n",
       " 'bcde': 49909,\n",
       " 'abe': 975300,\n",
       " 'ace': 241820,\n",
       " 'ade': 54765,\n",
       " 'bce': 31171,\n",
       " 'bde': 2196,\n",
       " 'cde': 66,\n",
       " 'ae': (31543, 31543),\n",
       " 'be': (1458, 2192),\n",
       " 'ce': (34, 34),\n",
       " 'de': (2, 2),\n",
       " 'e': 1}"
      ]
     },
     "execution_count": 214,
     "metadata": {},
     "output_type": "execute_result"
    }
   ],
   "source": [
    "newLattice"
   ]
  },
  {
   "cell_type": "code",
   "execution_count": 215,
   "metadata": {},
   "outputs": [
    {
     "name": "stdout",
     "output_type": "stream",
     "text": [
      "abe (975300, 69142256)\n",
      "ace (241820, 1072462)\n",
      "ade (54765, 63086)\n",
      "bce (31171, 74528)\n",
      "bde (2196, 4384)\n",
      "cde (66, 68)\n",
      "abce (1019641, 102302456)\n",
      "abde (18456, 71092856)\n",
      "acde (290355, 1556102)\n",
      "bcde (49909, 136870)\n"
     ]
    },
    {
     "data": {
      "text/plain": [
       "{'abcde': 1023860,\n",
       " 'abce': (1019641, 102302456),\n",
       " 'abde': (18456, 71092856),\n",
       " 'acde': (290355, 1556102),\n",
       " 'bcde': (49909, 136870),\n",
       " 'abe': (975300, 69142256),\n",
       " 'ace': (241820, 1072462),\n",
       " 'ade': (54765, 63086),\n",
       " 'bce': (31171, 74528),\n",
       " 'bde': (2196, 4384),\n",
       " 'cde': (66, 68),\n",
       " 'ae': (31543, 31543),\n",
       " 'be': (1458, 2192),\n",
       " 'ce': (34, 34),\n",
       " 'de': (2, 2),\n",
       " 'e': 1}"
      ]
     },
     "execution_count": 215,
     "metadata": {},
     "output_type": "execute_result"
    }
   ],
   "source": [
    "newLattice = computationCost(newLattice)\n",
    "newLattice"
   ]
  },
  {
   "cell_type": "code",
   "execution_count": 216,
   "metadata": {},
   "outputs": [],
   "source": [
    "def probabilityOfChange(atributes_perDimension,lattice,accepted_probability_of_db_change_in_literature):\n",
    "    totalElements={}\n",
    "    probability={}\n",
    "    for view in lattice:\n",
    "        countElements=0\n",
    "        dimensions=list(view)\n",
    "        for dimension in dimensions:\n",
    "            if dimension in atributes_perDimension: #Consistency check for notation\n",
    "                countElements+=atributes_perDimension[dimension]\n",
    "        \n",
    "        totalElements[view]=countElements+len(view)\n",
    "        #print(view,totalElements[view])\n",
    "        \n",
    "    max_totalElements_key=max(totalElements, key=totalElements.get)\n",
    "    for view in lattice:\n",
    "        probability[view]= totalElements[view] * \\\n",
    "        accepted_probability_of_db_change_in_literature / \\\n",
    "        totalElements[max_totalElements_key]\n",
    "        \n",
    "    return probability"
   ]
  },
  {
   "cell_type": "code",
   "execution_count": 217,
   "metadata": {},
   "outputs": [
    {
     "data": {
      "text/plain": [
       "{'abcde': 0.2,\n",
       " 'abce': 0.16,\n",
       " 'abde': 0.16,\n",
       " 'acde': 0.16,\n",
       " 'bcde': 0.16,\n",
       " 'abe': 0.12000000000000002,\n",
       " 'ace': 0.12000000000000002,\n",
       " 'ade': 0.12000000000000002,\n",
       " 'bce': 0.12000000000000002,\n",
       " 'bde': 0.12000000000000002,\n",
       " 'cde': 0.12000000000000002,\n",
       " 'ae': 0.08,\n",
       " 'be': 0.08,\n",
       " 'ce': 0.08,\n",
       " 'de': 0.08,\n",
       " 'e': 0.04}"
      ]
     },
     "execution_count": 217,
     "metadata": {},
     "output_type": "execute_result"
    }
   ],
   "source": [
    "probability=probabilityOfChange(atributes_perDimension,newLattice,0.2)\n",
    "probability"
   ]
  },
  {
   "cell_type": "code",
   "execution_count": 219,
   "metadata": {},
   "outputs": [],
   "source": [
    "lattice={\n",
    "    'abcde': 1023860,\n",
    "    'abce':1019641,'abde':18456,'acde':290355,'bcde':49909,\n",
    "    'abe':975300, 'ace':241820, 'ade':54765, 'bce':31171,'bde':2196,'cde':66,\n",
    "    'ae':31543, 'be':1458, 'ce':34,'de':2,\n",
    "    'e':1\n",
    "}"
   ]
  },
  {
   "cell_type": "code",
   "execution_count": 220,
   "metadata": {},
   "outputs": [
    {
     "data": {
      "text/plain": [
       "{'abcde': 1023860,\n",
       " 'abce': 1019641,\n",
       " 'abde': 18456,\n",
       " 'acde': 290355,\n",
       " 'bcde': 49909,\n",
       " 'abe': 975300,\n",
       " 'ace': 241820,\n",
       " 'ade': 54765,\n",
       " 'bce': 31171,\n",
       " 'bde': 2196,\n",
       " 'cde': 66,\n",
       " 'ae': 31543,\n",
       " 'be': 1458,\n",
       " 'ce': 34,\n",
       " 'de': 2,\n",
       " 'e': 1}"
      ]
     },
     "execution_count": 220,
     "metadata": {},
     "output_type": "execute_result"
    }
   ],
   "source": [
    "lattice"
   ]
  },
  {
   "cell_type": "code",
   "execution_count": 221,
   "metadata": {},
   "outputs": [],
   "source": [
    "def getGreedyBenefit(views,lattice,selectedViews):\n",
    "    B={}\n",
    "    for view in lattice:\n",
    "        storageCostDifference=0\n",
    "        benefit=[]\n",
    "        dependentViews=[]\n",
    "        if view not in selectedViews:\n",
    "            parent=getParentView(view,lattice,selectedViews)       \n",
    "            storageCostDifference=abs(lattice[view]-lattice[parent])\n",
    "            \n",
    "            #Count the number of dependent Views\n",
    "            view_dependentViews=dependencyCheck(view,views)     \n",
    "            \n",
    "            materialized_view_dependentViews=[]\n",
    "            \n",
    "            for selectedView in selectedViews:\n",
    "                if selectedView != parent and selectedView!=selectedViews[0]:\n",
    "                    materialized_view_dependentViews.extend(dependencyCheck(selectedView,views))\n",
    "                \n",
    "            dependentViews=\\\n",
    "            set(view_dependentViews).difference(set(materialized_view_dependentViews))\n",
    "            if dependentViews==set():\n",
    "                dependentViews=set(view)\n",
    "            #estimate the difference only for those selected nodes that are not parents\n",
    "        \n",
    "            addBenefit=additionalBenefit(views,lattice)\n",
    "            if addBenefit and addBenefit[1]== view:  \n",
    "                benefit.append((view,storageCostDifference,len(dependentViews),\\\n",
    "                dependentViews,storageCostDifference*len(dependentViews)+addBenefit[0]))\n",
    "                B[view]=storageCostDifference*len(dependentViews)+addBenefit[0]\n",
    "            else:\n",
    "                benefit.append((view,storageCostDifference,len(dependentViews),\\\n",
    "                dependentViews,storageCostDifference*len(dependentViews)))\n",
    "                B[view]=storageCostDifference*len(dependentViews)\n",
    "                \n",
    "        #print(benefit)\n",
    "\n",
    "    #Select the view with the highest benefit    \n",
    "    #update=max(B.items(), key=operator.itemgetter(1))[0]\n",
    "    #selectedViews.append(update)\n",
    "        \n",
    "    return B"
   ]
  },
  {
   "cell_type": "code",
   "execution_count": 222,
   "metadata": {},
   "outputs": [
    {
     "data": {
      "text/plain": [
       "{'abce': 33752,\n",
       " 'abde': 8043232,\n",
       " 'acde': 5868040,\n",
       " 'bcde': 7791608,\n",
       " 'abe': 194240,\n",
       " 'ace': 3128160,\n",
       " 'ade': 3876380,\n",
       " 'bce': 3970756,\n",
       " 'bde': 4086656,\n",
       " 'cde': 4095176,\n",
       " 'ae': 1984634,\n",
       " 'be': 2044804,\n",
       " 'ce': 2047652,\n",
       " 'de': 2047716,\n",
       " 'e': 1023859}"
      ]
     },
     "execution_count": 222,
     "metadata": {},
     "output_type": "execute_result"
    }
   ],
   "source": [
    "views=list(lattice.keys())\n",
    "selectedViews=['abcde']\n",
    "greedyBenefit=getGreedyBenefit(views,lattice,selectedViews)\n",
    "greedyBenefit"
   ]
  },
  {
   "cell_type": "code",
   "execution_count": 227,
   "metadata": {},
   "outputs": [],
   "source": [
    "def getTriniBenefit(views,selectedViews,greedyBenefit,newLattice,probability):\n",
    "    newBenefit={}\n",
    "    fq={}\n",
    "    for view in views:\n",
    "        if view not in selectedViews and view != 'e':\n",
    "            fq[view]=len(dependencyCheck(view,views))\n",
    "            newBenefit[view]=\\\n",
    "            greedyBenefit[view] * fq[view] - \\\n",
    "            (\\\n",
    "            (newLattice[view][1] / fq[view] ) *\\\n",
    "            (1.0 + probability[view]) \n",
    "            )\n",
    "            \n",
    "            print (view,greedyBenefit[view] * fq[view], \\\n",
    "                   newLattice[view][1] / fq[view],\\\n",
    "                   (1 + probability[view]), newBenefit[view])\n",
    "    \n",
    "    #Select the view with the highest benefit    \n",
    "    update=max(newBenefit.items(), key=operator.itemgetter(1))[0]\n",
    "    selectedViews.append(update)\n",
    "    \n",
    "    print(selectedViews)\n",
    "    return selectedViews"
   ]
  },
  {
   "cell_type": "code",
   "execution_count": 228,
   "metadata": {},
   "outputs": [
    {
     "name": "stdout",
     "output_type": "stream",
     "text": [
      "abce 270016 12787807.0 1.16 -14563840.12\n",
      "abde 64345856 8886607.0 1.16 54037391.88\n",
      "acde 46944320 194512.75 1.16 46718685.21\n",
      "bcde 62332864 17108.75 1.16 62313017.85\n",
      "abe 776960 17285564.0 1.12 -18582871.680000003\n",
      "ace 12512640 268115.5 1.12 12212350.64\n",
      "ade 15505520 15771.5 1.12 15487855.92\n",
      "bce 15883024 18632.0 1.12 15862156.16\n",
      "bde 16346624 1096.0 1.12 16345396.48\n",
      "cde 16380704 17.0 1.12 16380684.96\n",
      "ae 3969268 15771.5 1.08 3952234.78\n",
      "be 4089608 1096.0 1.08 4088424.32\n",
      "ce 4095304 17.0 1.08 4095285.64\n",
      "de 4095432 1.0 1.08 4095430.92\n",
      "['abcde', 'bcde']\n"
     ]
    },
    {
     "data": {
      "text/plain": [
       "['abcde', 'bcde']"
      ]
     },
     "execution_count": 228,
     "metadata": {},
     "output_type": "execute_result"
    }
   ],
   "source": [
    "selectedViews=['abcde']\n",
    "getTriniBenefit(views,selectedViews,greedyBenefit,newLattice,probability)"
   ]
  },
  {
   "cell_type": "code",
   "execution_count": 229,
   "metadata": {},
   "outputs": [
    {
     "name": "stdout",
     "output_type": "stream",
     "text": [
      "abce 135008 12787807.0 1.16 -14698848.12\n",
      "abde 32172928 8886607.0 1.16 21864463.880000003\n",
      "acde 23472160 194512.75 1.16 23246525.21\n",
      "abe 388480 17285564.0 1.12 -18971351.680000003\n",
      "ace 6256320 268115.5 1.12 5956030.64\n",
      "ade 7752760 15771.5 1.12 7735095.92\n",
      "bce 299808 18632.0 1.12 278940.16\n",
      "bde 763408 1096.0 1.12 762180.48\n",
      "cde 797488 17.0 1.12 797468.96\n",
      "ae 2021366 15771.5 1.08 2004332.78\n",
      "be 193804 1096.0 1.08 192620.32\n",
      "ce 199500 17.0 1.08 199481.64\n",
      "de 199628 1.0 1.08 199626.92\n",
      "['abcde', 'bcde', 'acde']\n"
     ]
    },
    {
     "data": {
      "text/plain": [
       "['abcde', 'bcde', 'acde']"
      ]
     },
     "execution_count": 229,
     "metadata": {},
     "output_type": "execute_result"
    }
   ],
   "source": [
    "greedyBenefit=getGreedyBenefit(views,lattice,selectedViews)\n",
    "getTriniBenefit(views,selectedViews,greedyBenefit,newLattice,probability)"
   ]
  },
  {
   "cell_type": "code",
   "execution_count": 230,
   "metadata": {},
   "outputs": [
    {
     "name": "stdout",
     "output_type": "stream",
     "text": [
      "abce 67504 12787807.0 1.16 -14766352.12\n",
      "abde 16086464 8886607.0 1.16 5777999.880000001\n",
      "abe 194240 17285564.0 1.12 -19165591.680000003\n",
      "ace 388280 268115.5 1.12 87990.63999999996\n",
      "ade 1884720 15771.5 1.12 1867055.92\n",
      "bce 1186640 18632.0 1.12 1165772.16\n",
      "bde 381704 1096.0 1.12 380476.48\n",
      "cde 598116 17.0 1.12 598096.96\n",
      "ae 517624 15771.5 1.08 500590.78\n",
      "be 96902 1096.0 1.08 95718.32\n",
      "ce 199500 17.0 1.08 199481.64\n",
      "de 199628 1.0 1.08 199626.92\n",
      "['abcde', 'bcde', 'acde', 'abde']\n"
     ]
    },
    {
     "data": {
      "text/plain": [
       "['abcde', 'bcde', 'acde', 'abde']"
      ]
     },
     "execution_count": 230,
     "metadata": {},
     "output_type": "execute_result"
    }
   ],
   "source": [
    "greedyBenefit=getGreedyBenefit(views,lattice,selectedViews)\n",
    "getTriniBenefit(views,selectedViews,greedyBenefit,newLattice,probability)"
   ]
  },
  {
   "cell_type": "code",
   "execution_count": 231,
   "metadata": {},
   "outputs": [
    {
     "name": "stdout",
     "output_type": "stream",
     "text": [
      "abce 33752 12787807.0 1.16 -14800104.12\n",
      "abe 3827376 17285564.0 1.12 -15532455.680000003\n",
      "ace 194140 268115.5 1.12 -106149.36000000004\n",
      "ade 435708 15771.5 1.12 418043.92\n",
      "bce 74952 18632.0 1.12 54084.159999999996\n",
      "bde 195120 1096.0 1.12 193892.48\n",
      "cde 671676 17.0 1.12 671656.96\n",
      "ae 52348 15771.5 1.08 35314.78\n",
      "be 67992 1096.0 1.08 66808.32\n",
      "ce 199500 17.0 1.08 199481.64\n",
      "de 73816 1.0 1.08 73814.92\n",
      "['abcde', 'bcde', 'acde', 'abde', 'cde']\n"
     ]
    },
    {
     "data": {
      "text/plain": [
       "['abcde', 'bcde', 'acde', 'abde', 'cde']"
      ]
     },
     "execution_count": 231,
     "metadata": {},
     "output_type": "execute_result"
    }
   ],
   "source": [
    "greedyBenefit=getGreedyBenefit(views,lattice,selectedViews)\n",
    "getTriniBenefit(views,selectedViews,greedyBenefit,newLattice,probability)"
   ]
  },
  {
   "cell_type": "code",
   "execution_count": 232,
   "metadata": {},
   "outputs": [
    {
     "name": "stdout",
     "output_type": "stream",
     "text": [
      "abce 33752 12787807.0 1.16 -14800104.12\n",
      "abe 3827376 17285564.0 1.12 -15532455.680000003\n",
      "ace 194140 268115.5 1.12 -106149.36000000004\n",
      "ade 435708 15771.5 1.12 418043.92\n",
      "bce 74952 18632.0 1.12 54084.159999999996\n",
      "bde 195120 1096.0 1.12 193892.48\n",
      "ae 52348 15771.5 1.08 35314.78\n",
      "be 67992 1096.0 1.08 66808.32\n",
      "ce 128 17.0 1.08 109.64\n",
      "de 256 1.0 1.08 254.92\n",
      "['abcde', 'bcde', 'acde', 'abde', 'cde', 'ade']\n"
     ]
    },
    {
     "data": {
      "text/plain": [
       "['abcde', 'bcde', 'acde', 'abde', 'cde', 'ade']"
      ]
     },
     "execution_count": 232,
     "metadata": {},
     "output_type": "execute_result"
    }
   ],
   "source": [
    "greedyBenefit=getGreedyBenefit(views,lattice,selectedViews)\n",
    "getTriniBenefit(views,selectedViews,greedyBenefit,newLattice,probability)"
   ]
  },
  {
   "cell_type": "code",
   "execution_count": 233,
   "metadata": {},
   "outputs": [
    {
     "name": "stdout",
     "output_type": "stream",
     "text": [
      "abce 33752 12787807.0 1.16 -14800104.12\n",
      "abe 3827376 17285564.0 1.12 -15532455.680000003\n",
      "ace 194140 268115.5 1.12 -106149.36000000004\n",
      "bce 169328 18632.0 1.12 148460.16\n",
      "bde 195120 1096.0 1.12 193892.48\n",
      "ae 52348 15771.5 1.08 35314.78\n",
      "be 67992 1096.0 1.08 66808.32\n",
      "ce 128 17.0 1.08 109.64\n",
      "de 256 1.0 1.08 254.92\n",
      "['abcde', 'bcde', 'acde', 'abde', 'cde', 'ade', 'bde']\n"
     ]
    },
    {
     "data": {
      "text/plain": [
       "['abcde', 'bcde', 'acde', 'abde', 'cde', 'ade', 'bde']"
      ]
     },
     "execution_count": 233,
     "metadata": {},
     "output_type": "execute_result"
    }
   ],
   "source": [
    "greedyBenefit=getGreedyBenefit(views,lattice,selectedViews)\n",
    "getTriniBenefit(views,selectedViews,greedyBenefit,newLattice,probability)"
   ]
  },
  {
   "cell_type": "code",
   "execution_count": 234,
   "metadata": {},
   "outputs": [
    {
     "name": "stdout",
     "output_type": "stream",
     "text": [
      "abce 33752 12787807.0 1.16 -14800104.12\n",
      "abe 3827376 17285564.0 1.12 -15532455.680000003\n",
      "ace 194140 268115.5 1.12 -106149.36000000004\n",
      "bce 74952 18632.0 1.12 54084.159999999996\n",
      "ae 52348 15771.5 1.08 35314.78\n",
      "be 2952 1096.0 1.08 1768.32\n",
      "ce 4452 17.0 1.08 4433.64\n",
      "de 256 1.0 1.08 254.92\n",
      "['abcde', 'bcde', 'acde', 'abde', 'cde', 'ade', 'bde', 'bce']\n"
     ]
    },
    {
     "data": {
      "text/plain": [
       "['abcde', 'bcde', 'acde', 'abde', 'cde', 'ade', 'bde', 'bce']"
      ]
     },
     "execution_count": 234,
     "metadata": {},
     "output_type": "execute_result"
    }
   ],
   "source": [
    "greedyBenefit=getGreedyBenefit(views,lattice,selectedViews)\n",
    "getTriniBenefit(views,selectedViews,greedyBenefit,newLattice,probability)"
   ]
  },
  {
   "cell_type": "code",
   "execution_count": 235,
   "metadata": {},
   "outputs": [
    {
     "name": "stdout",
     "output_type": "stream",
     "text": [
      "abce 33752 12787807.0 1.16 -14800104.12\n",
      "abe 3827376 17285564.0 1.12 -15532455.680000003\n",
      "ace 194140 268115.5 1.12 -106149.36000000004\n",
      "ae 52348 15771.5 1.08 35314.78\n",
      "be 2952 1096.0 1.08 1768.32\n",
      "ce 128 17.0 1.08 109.64\n",
      "de 62594 1.0 1.08 62592.92\n",
      "['abcde', 'bcde', 'acde', 'abde', 'cde', 'ade', 'bde', 'bce', 'de']\n"
     ]
    },
    {
     "data": {
      "text/plain": [
       "['abcde', 'bcde', 'acde', 'abde', 'cde', 'ade', 'bde', 'bce', 'de']"
      ]
     },
     "execution_count": 235,
     "metadata": {},
     "output_type": "execute_result"
    }
   ],
   "source": [
    "greedyBenefit=getGreedyBenefit(views,lattice,selectedViews)\n",
    "getTriniBenefit(views,selectedViews,greedyBenefit,newLattice,probability)"
   ]
  },
  {
   "cell_type": "code",
   "execution_count": 236,
   "metadata": {},
   "outputs": [
    {
     "name": "stdout",
     "output_type": "stream",
     "text": [
      "abce 33752 12787807.0 1.16 -14800104.12\n",
      "abe 3827376 17285564.0 1.12 -15532455.680000003\n",
      "ace 194140 268115.5 1.12 -106149.36000000004\n",
      "ae 52348 15771.5 1.08 35314.78\n",
      "be 2952 1096.0 1.08 1768.32\n",
      "ce 128 17.0 1.08 109.64\n",
      "['abcde', 'bcde', 'acde', 'abde', 'cde', 'ade', 'bde', 'bce', 'de', 'ae']\n"
     ]
    },
    {
     "data": {
      "text/plain": [
       "['abcde', 'bcde', 'acde', 'abde', 'cde', 'ade', 'bde', 'bce', 'de', 'ae']"
      ]
     },
     "execution_count": 236,
     "metadata": {},
     "output_type": "execute_result"
    }
   ],
   "source": [
    "greedyBenefit=getGreedyBenefit(views,lattice,selectedViews)\n",
    "getTriniBenefit(views,selectedViews,greedyBenefit,newLattice,probability)"
   ]
  },
  {
   "cell_type": "code",
   "execution_count": 237,
   "metadata": {},
   "outputs": [
    {
     "name": "stdout",
     "output_type": "stream",
     "text": [
      "abce 33752 12787807.0 1.16 -14800104.12\n",
      "abe 3827376 17285564.0 1.12 -15532455.680000003\n",
      "ace 194140 268115.5 1.12 -106149.36000000004\n",
      "be 63122 1096.0 1.08 61938.32\n",
      "ce 128 17.0 1.08 109.64\n",
      "['abcde', 'bcde', 'acde', 'abde', 'cde', 'ade', 'bde', 'bce', 'de', 'ae', 'be']\n"
     ]
    },
    {
     "data": {
      "text/plain": [
       "['abcde', 'bcde', 'acde', 'abde', 'cde', 'ade', 'bde', 'bce', 'de', 'ae', 'be']"
      ]
     },
     "execution_count": 237,
     "metadata": {},
     "output_type": "execute_result"
    }
   ],
   "source": [
    "greedyBenefit=getGreedyBenefit(views,lattice,selectedViews)\n",
    "getTriniBenefit(views,selectedViews,greedyBenefit,newLattice,probability)"
   ]
  },
  {
   "cell_type": "code",
   "execution_count": null,
   "metadata": {},
   "outputs": [],
   "source": []
  }
 ],
 "metadata": {
  "kernelspec": {
   "display_name": "Python 3",
   "language": "python",
   "name": "python3"
  },
  "language_info": {
   "codemirror_mode": {
    "name": "ipython",
    "version": 3
   },
   "file_extension": ".py",
   "mimetype": "text/x-python",
   "name": "python",
   "nbconvert_exporter": "python",
   "pygments_lexer": "ipython3",
   "version": "3.7.4"
  }
 },
 "nbformat": 4,
 "nbformat_minor": 2
}
